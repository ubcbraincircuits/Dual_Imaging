{
 "cells": [
  {
   "cell_type": "markdown",
   "metadata": {},
   "source": [
    "# Substitute Dropped Frames with Synthetic Frames"
   ]
  },
  {
   "cell_type": "markdown",
   "metadata": {},
   "source": [
    "-----\n",
    "## Motivation"
   ]
  },
  {
   "cell_type": "markdown",
   "metadata": {},
   "source": [
    "Due to hardware/software limitations and I/O speeds, sometimes footage from an experimental recording may have missing frames. \n",
    "This data must undergo preprocessing before routine analysis is carried out. Some reasons why we might want to do this are:\n",
    "  1.  Different kinds of footage need to be synchonised , e.g. Behaviour and Brain Imaging footage from one or more mice, of which a combination may have missing frames\n",
    "  2.  External libraries used for analysis require the data to have the same dimensions for some operations\n"
   ]
  },
  {
   "cell_type": "markdown",
   "metadata": {},
   "source": [
    "## Proposed Solution: Interpolation"
   ]
  },
  {
   "cell_type": "markdown",
   "metadata": {},
   "source": [
    "Suppose we have two known points and would like to know the value of a point smewhere in between these points. \n",
    "Consider the example below, were we would like to know the value of $y$ at $x=0.5$"
   ]
  },
  {
   "cell_type": "markdown",
   "metadata": {},
   "source": [
    "<img src='images/1.jpeg'  style='display: block; margin-left: auto; margin-right: auto'>"
   ]
  },
  {
   "cell_type": "markdown",
   "metadata": {},
   "source": [
    "In this case, we shall perform a linear interpolation.\n",
    "Mathematically, it is defined as:\n",
    "\n",
    "<center>$y = y_1 + (x - x_1) \\frac{y_2 - y_1}{x_2 - x_1}$</center>\n",
    "\n",
    "Where: $(x_1, y_1) = (0,3)$, $(x_2, y_2) = (1,5)$\n",
    "\n",
    "\n",
    "Plugging this into the equation above, we have:\n",
    "\n",
    "<center>$y = 3 + (0.5 - 0) \\frac{5 - 3}{1 - 0} = 4$</center>"
   ]
  },
  {
   "cell_type": "markdown",
   "metadata": {},
   "source": [
    "Plotting the point $(0.5,4)$, we can see that it does indeed lie on the line"
   ]
  },
  {
   "cell_type": "markdown",
   "metadata": {},
   "source": [
    "<img src='images/2.jpeg'  style='display: block; margin-left: auto; margin-right: auto'>"
   ]
  },
  {
   "cell_type": "markdown",
   "metadata": {},
   "source": [
    "This can be extended to video footage by taking the temporal evolution of each pixel in a frame as a 'line' like we did above"
   ]
  },
  {
   "cell_type": "markdown",
   "metadata": {},
   "source": [
    "___"
   ]
  },
  {
   "cell_type": "markdown",
   "metadata": {},
   "source": [
    "### Breaking down the problem"
   ]
  },
  {
   "cell_type": "markdown",
   "metadata": {},
   "source": [
    "#### 1. Finding where we dropped the frames, and how many we dropped\n",
    "\n",
    "Now that we know how we will generate the synthetic frames, we need to figure out how we detect and find the locations of missing frames.\n",
    "\n",
    "Since the experimenter thought ahead, there is a text dump of the timestamps at which frames were written to the footage.\n",
    "\n",
    "If one or more frames is missing between some time stamps, the difference between then will be greater than the regular period, which we can calculate if we know the frame rate the footage was recorded at.\n",
    "\n",
    "### <center>$Period = \\frac{1}{Frame Rate}$</center>"
   ]
  },
  {
   "cell_type": "code",
   "execution_count": 159,
   "metadata": {},
   "outputs": [],
   "source": [
    "import numpy as np\n",
    "from random import randint"
   ]
  },
  {
   "cell_type": "code",
   "execution_count": 178,
   "metadata": {},
   "outputs": [],
   "source": [
    "period = 1_000_000/30  # 1e6 microseconds divided by 30 frames per second\n",
    "threshold = period * 1.1"
   ]
  },
  {
   "cell_type": "code",
   "execution_count": 198,
   "metadata": {},
   "outputs": [
    {
     "name": "stdout",
     "output_type": "stream",
     "text": [
      "Frames were dropped at 11 locations\n"
     ]
    }
   ],
   "source": [
    "# load the timestamps\n",
    "timestamps = np.fromfile('timestamps.txt', sep=',').astype('int')\n",
    "\n",
    "# find the differences between the timestamps\n",
    "differences = np.diff(timestamps)\n",
    "\n",
    "# find out where the frames were dropped, and how mnay were dropped\n",
    "locations = np.where(differences > threshold)[0]\n",
    "print(f\"Frames were dropped at {len(locations)} locations\")"
   ]
  },
  {
   "cell_type": "markdown",
   "metadata": {},
   "source": [
    "Wait! We are not quite done yet. What if multiple frames are dropped at one location? We can find out by looking at how large the `differences` are at `locations`"
   ]
  },
  {
   "cell_type": "code",
   "execution_count": 199,
   "metadata": {},
   "outputs": [],
   "source": [
    "dropped_frames = []\n",
    "for location in locations:\n",
    "    number_dropped_frames = round(differences[location]/period) / 2\n",
    "    dropped_frames.append(int(number_dropped_frames))"
   ]
  },
  {
   "cell_type": "code",
   "execution_count": 201,
   "metadata": {},
   "outputs": [
    {
     "name": "stdout",
     "output_type": "stream",
     "text": [
      "1 frame(s) were dropped at index 32\n",
      "1 frame(s) were dropped at index 241\n",
      "1 frame(s) were dropped at index 795\n",
      "1 frame(s) were dropped at index 1288\n",
      "1 frame(s) were dropped at index 1691\n",
      "1 frame(s) were dropped at index 2074\n",
      "1 frame(s) were dropped at index 2089\n",
      "1 frame(s) were dropped at index 2246\n",
      "1 frame(s) were dropped at index 2617\n",
      "1 frame(s) were dropped at index 2619\n",
      "1 frame(s) were dropped at index 2670\n"
     ]
    }
   ],
   "source": [
    "for location, num_dropped_frames in zip(locations, dropped_frames):\n",
    "    print(f'{num_dropped_frames} frame(s) were dropped at index {location}')"
   ]
  },
  {
   "cell_type": "markdown",
   "metadata": {},
   "source": [
    "#### 2. Generating the synthetic frames\n",
    "\n",
    "Now that we know where the frames were dropped and how many, we can find the closest existing frames before and after these dropped frames and use these to generate the synthetic frames"
   ]
  },
  {
   "cell_type": "code",
   "execution_count": 179,
   "metadata": {},
   "outputs": [],
   "source": [
    "# load the frames\n",
    "frames = np.load('video.raw')"
   ]
  },
  {
   "cell_type": "markdown",
   "metadata": {},
   "source": [
    "##### 2.1 We want to implement the formula for linear interpolation to generate synthetic frames:\n",
    "<center>$y = y_1 + (x - x_1) \\frac{y_2 - y_1}{x_2 - x_1}$</center>"
   ]
  },
  {
   "cell_type": "markdown",
   "metadata": {},
   "source": [
    "Consider the following algorithm:\n",
    "##### <center>for $i=1..n$ dropped frames:</center>\n",
    "##### <center>$i = first frame + (last frame-first frame)\\frac{i}{n+1}$</center>\n",
    "##### <center>end for</center>\n",
    "There are two immediate solutions that present themselves:\n",
    "A. We could loop through each pixel in Python and construct the synthetic image\n",
    "B. We could do in in NumPy\n",
    "\n",
    "Let's do B. - it will be simpler to implement and more computationally efficient.\n",
    "The corresponding Python function definition is:"
   ]
  },
  {
   "cell_type": "code",
   "execution_count": 213,
   "metadata": {},
   "outputs": [],
   "source": [
    "def generate_synthetic_frames(first_frame, last_frame, num_dropped_frames):\n",
    "    synthetic_frames = []\n",
    "    for i in range(1, n_dropped_frames+1):  # to account for 0-based indexing in `range`\n",
    "        synthetic_frame = first_frame + (last_frame-first_frame)*i/(num_dropped_frames+1)\n",
    "        synthetic_frames.append(synthetic_frame)\n",
    "    return np.asarray(synthetic_frames)"
   ]
  },
  {
   "cell_type": "markdown",
   "metadata": {},
   "source": [
    "Let's run a few simple tests:"
   ]
  },
  {
   "cell_type": "code",
   "execution_count": 214,
   "metadata": {},
   "outputs": [
    {
     "name": "stdout",
     "output_type": "stream",
     "text": [
      "Test 1 Passed!\n"
     ]
    }
   ],
   "source": [
    "first_frame = np.ones([100,100])\n",
    "last_frame = np.ones([100,100])*3\n",
    "n_dropped_frames = 1\n",
    "\n",
    "synthetic_frames = generate_synthetic_frames(first_frame, last_frame, n_dropped_frames)\n",
    "assert((synthetic_frames[0] == (np.ones([100,100])*2)).all())\n",
    "print('Test 1 Passed!')"
   ]
  },
  {
   "cell_type": "code",
   "execution_count": 215,
   "metadata": {},
   "outputs": [
    {
     "name": "stdout",
     "output_type": "stream",
     "text": [
      "Test 2 Passed!\n"
     ]
    }
   ],
   "source": [
    "first_frame = np.ones([100,100])\n",
    "last_frame = np.ones([100,100])*4\n",
    "n_dropped_frames = 2\n",
    "\n",
    "synthetic_frames = generate_synthetic_frames(first_frame, last_frame, n_dropped_frames)\n",
    "assert((synthetic_frames[0] == (np.ones([100,100])*2)).all())\n",
    "assert((synthetic_frames[1] == (np.ones([100,100])*3)).all())\n",
    "print('Test 2 Passed!')"
   ]
  },
  {
   "cell_type": "markdown",
   "metadata": {},
   "source": [
    "Now we can generate all the synthetic frames required:"
   ]
  },
  {
   "cell_type": "code",
   "execution_count": null,
   "metadata": {},
   "outputs": [],
   "source": [
    "listof_synthetic_frames = []\n",
    "for location, num_dropped_frames in zip(locations, dropped_frames):\n",
    "    synthetic_frames = generate_synthetic_frames(\n",
    "        frames[location],\n",
    "        frames[location+1],\n",
    "        num_fropped_frames\n",
    "    )\n",
    "    listof_synthetic_frames.append(synthetic_frames)"
   ]
  },
  {
   "cell_type": "markdown",
   "metadata": {},
   "source": [
    "##### 2.2 Inserting the synthetic frames into their correct locations "
   ]
  },
  {
   "cell_type": "markdown",
   "metadata": {},
   "source": [
    "As we insert the synthetic frames, the indeces we used to indentify the `locations` of the dropped frames will have to shift by the number of frames inserted each time we add some frames. Consider the following peudocode:\n",
    "``` pseudocode\n",
    "index_shift = 1\n",
    "for location in locations:\n",
    "    frames.insert(synthetic frames corresponding to location, at index location+index_shift)\n",
    "    index_shift = index_shift + number of synthetic frames inserted\n",
    "end for\n",
    "```\n",
    "\n",
    "The corresponding Python function definition is:"
   ]
  },
  {
   "cell_type": "code",
   "execution_count": 244,
   "metadata": {},
   "outputs": [],
   "source": [
    "def insert_synthetic_frames(frames, locations, listof_synthetic_frames):\n",
    "    index_shift = 1  # account for `locations` referring to an index deficient by one\n",
    "    for location, synthetic_frames in zip(locations, listof_synthetic_frames):\n",
    "        frames = np.insert(frames,  location+index_shift, synthetic_frames,0)\n",
    "        index_shift += synthetic_frames.shape[0]\n",
    "    return frames"
   ]
  },
  {
   "cell_type": "markdown",
   "metadata": {},
   "source": [
    "Let's run some more tests:"
   ]
  },
  {
   "cell_type": "code",
   "execution_count": 258,
   "metadata": {},
   "outputs": [
    {
     "name": "stdout",
     "output_type": "stream",
     "text": [
      "Test 3 Passed!\n"
     ]
    }
   ],
   "source": [
    "test_frames = np.array([first_frame, last_frame])\n",
    "test_locations = [0]\n",
    "test_synthetic_frames = [generate_synthetic_frames(first_frame,last_frame,2)]\n",
    "test_frames = insert_synthetic_frames(test_frames, test_locations, test_synthetic_frames)\n",
    "\n",
    "for i in range(3):\n",
    "    assert((test_frames[i] == (np.ones([100,100])*(i+1))).all())\n",
    "print('Test 3 Passed!')"
   ]
  },
  {
   "cell_type": "code",
   "execution_count": 259,
   "metadata": {},
   "outputs": [
    {
     "name": "stdout",
     "output_type": "stream",
     "text": [
      "Test 4 Passed!\n"
     ]
    }
   ],
   "source": [
    "test_frames = np.array([np.ones([100,100]),\n",
    "                        np.ones([100,100])*4,\n",
    "                        np.ones([100,100])*5,\n",
    "                        np.ones([100,100])*7\n",
    "                       ])\n",
    "test_locations = [0, 2]\n",
    "test_num_dropped_frames = [2,1]\n",
    "test_synthetic_frames = []\n",
    "for location, num_dropped_frames in zip(test_locations, test_num_dropped_frames):\n",
    "    synthetic_frames = generate_synthetic_frames(\n",
    "        test_frames[location],\n",
    "        test_frames[location+1],\n",
    "        num_dropped_frames\n",
    "    )\n",
    "    test_synthetic_frames.append(synthetic_frames)\n",
    "test_frames = insert_synthetic_frames(test_frames, test_locations, test_synthetic_frames)\n",
    "\n",
    "for i in range(7):\n",
    "    assert((test_frames[i] == (np.ones([100,100])*(i+1))).all())\n",
    "\n",
    "print('Test 4 Passed!')"
   ]
  },
  {
   "cell_type": "markdown",
   "metadata": {},
   "source": [
    "---"
   ]
  },
  {
   "cell_type": "markdown",
   "metadata": {},
   "source": [
    "We now have all the machinery we need to fill the frames with our synthetic frames"
   ]
  },
  {
   "cell_type": "code",
   "execution_count": null,
   "metadata": {},
   "outputs": [],
   "source": [
    "# Fill in the frames with the synthetic frames\n",
    "frames = insert_synthetic_frames(frames, locations, listof_synthetic_frames)\n",
    "# Save the new set of frames\n",
    "np.save('video_filled_frames.raw', frames)"
   ]
  },
  {
   "cell_type": "raw",
   "metadata": {},
   "source": [
    "TODO:\n",
    "    ROI Using ipywidget\n",
    "    ROI signal\n",
    "    Signal Processing : bandpass filter\n",
    "    Seed Pixels and correlation matrix?"
   ]
  },
  {
   "cell_type": "code",
   "execution_count": null,
   "metadata": {},
   "outputs": [],
   "source": []
  }
 ],
 "metadata": {
  "kernelspec": {
   "display_name": "Python 3",
   "language": "python",
   "name": "python3"
  },
  "language_info": {
   "codemirror_mode": {
    "name": "ipython",
    "version": 3
   },
   "file_extension": ".py",
   "mimetype": "text/x-python",
   "name": "python",
   "nbconvert_exporter": "python",
   "pygments_lexer": "ipython3",
   "version": "3.6.8"
  }
 },
 "nbformat": 4,
 "nbformat_minor": 2
}
