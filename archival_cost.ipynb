{
 "cells": [
  {
   "cell_type": "code",
   "execution_count": 1,
   "metadata": {},
   "outputs": [],
   "source": [
    "import plotly\n",
    "import pygal\n",
    "import matplotlib.pyplot as plt\n",
    "import numpy as np\n",
    "from currency_converter import CurrencyConverter\n",
    "from IPython.display import SVG, display\n",
    "c = CurrencyConverter()"
   ]
  },
  {
   "cell_type": "markdown",
   "metadata": {},
   "source": [
    "## Class defs"
   ]
  },
  {
   "cell_type": "code",
   "execution_count": 40,
   "metadata": {},
   "outputs": [],
   "source": [
    "class Storage:\n",
    "    def __init__(self, name, location, currency):\n",
    "        self.name = name\n",
    "        self.currency = currency\n",
    "        self.location = location\n",
    "    def __repr__(self):          \n",
    "        string=f\"\\nName       : {self.name}\\nLocation   : {self.location}\"\n",
    "        return string\n",
    "    def __str__(self):\n",
    "        return self.__repr__()\n",
    "    \n",
    "    # setters\n",
    "    def set_storage(self, storage):\n",
    "        self.storage = storage *1024\n",
    "        return self\n",
    "    def set_manipuation_requests(self, manipulation_requests):\n",
    "        self.manipulation_requests = manipulation_requests\n",
    "    def set_retrieval_requests(self, retrieval_requests):\n",
    "        self.retrieval_requests = retrieval_requests\n",
    "    def set_data_retrieval(self, data_retrieval):\n",
    "        self.data_retrieval = data_retrieval\n",
    "    def set_outbound_transfer(self, outbound_transfer):\n",
    "        self.outbound_transfer = outbound_transfer\n",
    "    \n",
    "class Cloud(Storage):\n",
    "    def set_costs(self,\n",
    "                  storage_tiers, \n",
    "                  storage_costs, \n",
    "                  manipulation_request_cost,\n",
    "                  retrieval_request_cost,\n",
    "                  retrieval_costs,\n",
    "                  outbound_tiers,\n",
    "                  outbound_costs\n",
    "                 ):\n",
    "        self.storage_tiers = storage_tiers\n",
    "        self.storage_costs = storage_costs\n",
    "        \n",
    "        #requests\n",
    "        self.manipulation_request_cost = manipulation_request_cost\n",
    "        self.retrieval_request_cost = retrieval_request_cost\n",
    "        #retrieval\n",
    "        self.retrieval_cost = retrieval_costs\n",
    "        #outbound\n",
    "        self.outbound_tiers = outbound_tiers\n",
    "        self.outbound_costs = outbound_costs\n",
    "    \n",
    "    \n",
    "    def calc_storage_cost(self):\n",
    "        tiers = self.storage_tiers\n",
    "        costs = self.storage_costs\n",
    "        storage = self.storage\n",
    "        total = 0\n",
    "        for tier, cost in zip(tiers, costs):\n",
    "            if storage > tier:\n",
    "                total += cost*tier\n",
    "                storage -= tier\n",
    "            else:\n",
    "                total += cost*storage\n",
    "                break\n",
    "        return total\n",
    "    def calc_retrieval_cost(self):\n",
    "        return self.retieval_cost*self.data_retrieval\n",
    "    def calc_manipulation_request_cost(self):\n",
    "        return self.manipulation_request_cost*self.manipulation_requests\n",
    "    def calc_retrieval_request_cost(self):\n",
    "        return self.retrieval_request_cost*self.retrieval_requests\n",
    "    def calc_retrieval_cost(self):\n",
    "        return self.data_retrieval*self.retrieval_cost\n",
    "    def calc_outbound_cost(self):\n",
    "        tiers = self.outbound_tiers\n",
    "        costs = self.outbound_costs\n",
    "        outbound = self.outbound_transfer\n",
    "        total = 0\n",
    "        for tier, cost in zip(tiers, costs):\n",
    "            if outbound > tier:\n",
    "                total += cost*tier\n",
    "                outbound -= tier\n",
    "            else:\n",
    "                total += cost*outbound\n",
    "                break\n",
    "        return total\n",
    "    def monthly_cost(self):\n",
    "        cost = sum((\n",
    "                    Cloud.calc_storage_cost(self),\n",
    "                    Cloud.calc_manipulation_request_cost(self),\n",
    "                    Cloud.calc_retrieval_request_cost(self),\n",
    "                    Cloud.calc_retrieval_cost(self),\n",
    "                    Cloud.calc_outbound_cost(self)\n",
    "                ))\n",
    "        if self.currency is \"CAD\":\n",
    "            return cost\n",
    "        else:\n",
    "            return c.convert(cost, self.currency, 'CAD')\n",
    "    def yearly_cost(self):\n",
    "        return Cloud.monthly_cost(self)*12\n",
    "    \n",
    "class Sync(Storage):\n",
    "    def set_costs(self, storage_cost, per_user=False):\n",
    "        self.storage_cost = storage_cost\n",
    "        self.per_user = per_user\n",
    "    def set_users(self, users):\n",
    "        self.users = users\n",
    "    def monthly_cost(self):\n",
    "        if self.per_user:\n",
    "            return self.storage_cost/12*self.users*self.storage/1024*1000\n",
    "        return self.storage_cost/12*self.storage/1024*1000\n",
    "    def yearly_cost(self):\n",
    "        return Sync.monthly_cost(self)*12"
   ]
  },
  {
   "cell_type": "markdown",
   "metadata": {},
   "source": [
    "## Defining cloud and sync options"
   ]
  },
  {
   "cell_type": "code",
   "execution_count": 26,
   "metadata": {},
   "outputs": [],
   "source": [
    "azure_archive_LRS_east = Cloud('Azure Archive LRS', 'Canada East', 'CAD')\n",
    "azure_archive_LRS_east.set_costs(\n",
    "    storage_tiers = [50*1024, 500*1024, 1e31], \n",
    "    storage_costs = [0.0031,  0.0031,   0.0031], \n",
    "    manipulation_request_cost = 0.3/10000,\n",
    "    retrieval_request_cost = 7.68/10000,\n",
    "    retrieval_costs = 0.0308,\n",
    "    outbound_tiers = [5, 10*1024, 50*1024, 150*1024, 500*1024],\n",
    "    outbound_costs = [0, 0.112,   0.107,   0.090,    0.064]\n",
    ")"
   ]
  },
  {
   "cell_type": "code",
   "execution_count": 27,
   "metadata": {},
   "outputs": [],
   "source": [
    "azure_archive_GRS_east = Cloud('Azure Archive GRS', 'Canada East', 'CAD')\n",
    "azure_archive_GRS_east.set_costs(\n",
    "    storage_tiers = [50*1024, 500*1024, 1e31], \n",
    "    storage_costs = [0.0060,  0.0060,   0.0060], \n",
    "    manipulation_request_cost = 0.3/10000,\n",
    "    retrieval_request_cost = 7.68/10000,\n",
    "    retrieval_costs = 0.0308,\n",
    "    outbound_tiers = [5, 10*1024, 50*1024, 150*1024, 500*1024],\n",
    "    outbound_costs = [0, 0.112,   0.107,   0.090,    0.064]\n",
    ")"
   ]
  },
  {
   "cell_type": "code",
   "execution_count": 28,
   "metadata": {},
   "outputs": [],
   "source": [
    "azure_archive_LRS_central = Cloud('Azure Archive LRS', 'Canada Central', 'CAD')\n",
    "azure_archive_LRS_central.set_costs(\n",
    "    storage_tiers = [50*1024, 500*1024, 1e31], \n",
    "    storage_costs = [0.0029,  0.0029,   0.0029], \n",
    "    manipulation_request_cost = 0.3/10000,\n",
    "    retrieval_request_cost = 7.04/10000,\n",
    "    retrieval_costs = 0.0282,\n",
    "    outbound_tiers = [5, 10*1024, 50*1024, 150*1024, 500*1024],\n",
    "    outbound_costs = [0, 0.112,   0.107,   0.090,    0.064]\n",
    ")"
   ]
  },
  {
   "cell_type": "code",
   "execution_count": 29,
   "metadata": {},
   "outputs": [],
   "source": [
    "azure_archive_GRS_central = Cloud('Azure Archive GRS', 'Canada Central', 'CAD')\n",
    "azure_archive_GRS_central.set_costs(\n",
    "    storage_tiers = [50*1024, 500*1024, 1e31], \n",
    "    storage_costs = [0.0060,  0.0060,   0.0060], \n",
    "    manipulation_request_cost = 0.3/10000,\n",
    "    retrieval_request_cost = 7.04/10000,\n",
    "    retrieval_costs = 0.0282,\n",
    "    outbound_tiers = [5, 10*1024, 50*1024, 150*1024, 500*1024],\n",
    "    outbound_costs = [0, 0.112,   0.107,   0.090,    0.064]\n",
    ")"
   ]
  },
  {
   "cell_type": "code",
   "execution_count": 30,
   "metadata": {},
   "outputs": [],
   "source": [
    "amazon_glacier_canada = Cloud('Amazon S3 Glacier BULK', 'Canada Central', 'USD')\n",
    "amazon_glacier_canada.set_costs(\n",
    "    storage_tiers = [1e31], \n",
    "    storage_costs = [0.0045], \n",
    "    manipulation_request_cost = 0.055/1000,\n",
    "    retrieval_request_cost = 0.0275/1000,\n",
    "    retrieval_costs = 0.00275,\n",
    "    outbound_tiers = [1, 10*1024, 50*1024, 150*1024, 1e31],\n",
    "    outbound_costs = [0, 0.09,    0.085,   0.07,    0.05]\n",
    ")"
   ]
  },
  {
   "cell_type": "code",
   "execution_count": 31,
   "metadata": {},
   "outputs": [],
   "source": [
    "google_coldline_canada = Cloud('Google Cloud Coldline', 'Montreal', 'CAD')\n",
    "google_coldline_canada.set_costs(\n",
    "    storage_tiers = [1e31], \n",
    "    storage_costs = [0.007], \n",
    "    manipulation_request_cost = 0.1/10000,\n",
    "    retrieval_request_cost = 0.05/10000,\n",
    "    retrieval_costs = 0.05,\n",
    "    outbound_tiers = [1024, 10*1024, 1e31],\n",
    "    outbound_costs = [0.12, 0.11,    0.08]\n",
    ")"
   ]
  },
  {
   "cell_type": "code",
   "execution_count": 32,
   "metadata": {},
   "outputs": [],
   "source": [
    "teamshare = Sync('Teamshare', 'UBC', 'CAD')\n",
    "teamshare.set_costs(0.15)"
   ]
  },
  {
   "cell_type": "markdown",
   "metadata": {},
   "source": [
    "### Plotting func def"
   ]
  },
  {
   "cell_type": "code",
   "execution_count": 33,
   "metadata": {},
   "outputs": [],
   "source": [
    "def storage_cost(choices, attributes, filename, annual=False):\n",
    "    if annual:\n",
    "        chart = pygal.XY(xrange=(0,501), title='Archival Annual Comparison', x_title='Storage(TB)', y_title='Cost per Year (CAD)') \n",
    "    else:\n",
    "        chart = pygal.XY(xrange=(0,501), title='Archival Monthly Comparison', x_title='Storage(TB)', y_title='Cost per Month (CAD)')\n",
    "    x = np.arange(0, 500, 0.25)\n",
    "    for choice in choices:\n",
    "        choice.set_manipuation_requests(attributes['manipulation_requests'])\n",
    "        choice.set_retrieval_requests(attributes['retrieval_requests'])\n",
    "        choice.set_data_retrieval(attributes['data_retrieval'])\n",
    "        choice.set_outbound_transfer(attributes['outbound_trasfer'])\n",
    "        if annual:\n",
    "            y = [(i, choice.set_storage(i).yearly_cost()) for i in x]\n",
    "        else:\n",
    "            y = [(i, choice.set_storage(i).monthly_cost()) for i in x]\n",
    "        label = choice.name + \" \" + choice.location\n",
    "        chart.add(label, y)\n",
    "    chart.render_to_file(filename) "
   ]
  },
  {
   "cell_type": "markdown",
   "metadata": {},
   "source": [
    "## Making plots"
   ]
  },
  {
   "cell_type": "code",
   "execution_count": 34,
   "metadata": {},
   "outputs": [],
   "source": [
    "choices = [azure_archive_LRS_east,\n",
    "           azure_archive_GRS_east,\n",
    "           azure_archive_LRS_central, \n",
    "           azure_archive_GRS_central,\n",
    "           amazon_glacier_canada, \n",
    "           google_coldline_canada]\n",
    "attributes = {\n",
    "    'manipulation_requests' : 10000,\n",
    "    'retrieval_requests' : 10000,\n",
    "    'data_retrieval' : 1*1024,\n",
    "    'outbound_trasfer' : 1*1024\n",
    "}\n",
    "storage_cost(choices, attributes, 'cloud_annual.svg', True)"
   ]
  },
  {
   "cell_type": "code",
   "execution_count": 35,
   "metadata": {},
   "outputs": [],
   "source": [
    "choices = [azure_archive_LRS_east,\n",
    "           azure_archive_GRS_east,\n",
    "           azure_archive_LRS_central, \n",
    "           azure_archive_GRS_central,\n",
    "           amazon_glacier_canada, \n",
    "           google_coldline_canada]\n",
    "attributes = {\n",
    "    'manipulation_requests' : 10000,\n",
    "    'retrieval_requests' : 10000,\n",
    "    'data_retrieval' : 1*1024,\n",
    "    'outbound_trasfer' : 1*1024\n",
    "}\n",
    "storage_cost(choices, attributes, 'cloud_monthly.svg', False)"
   ]
  },
  {
   "cell_type": "code",
   "execution_count": 36,
   "metadata": {},
   "outputs": [],
   "source": [
    "choices = [azure_archive_LRS_east,\n",
    "           azure_archive_GRS_east,\n",
    "           azure_archive_LRS_central, \n",
    "           azure_archive_GRS_central,\n",
    "           amazon_glacier_canada, \n",
    "           google_coldline_canada,\n",
    "           teamshare]\n",
    "attributes = {\n",
    "    'manipulation_requests' : 10000,\n",
    "    'retrieval_requests' : 10000,\n",
    "    'data_retrieval' : 1*1024,\n",
    "    'outbound_trasfer' : 1*1024\n",
    "}\n",
    "storage_cost(choices, attributes, 'storage_monthly.svg', False)"
   ]
  },
  {
   "cell_type": "code",
   "execution_count": 39,
   "metadata": {},
   "outputs": [],
   "source": [
    "choices = [azure_archive_LRS_east,\n",
    "           azure_archive_GRS_east,\n",
    "           azure_archive_LRS_central, \n",
    "           azure_archive_GRS_central,\n",
    "           amazon_glacier_canada, \n",
    "           google_coldline_canada,\n",
    "           teamshare]\n",
    "attributes = {\n",
    "    'manipulation_requests' : 10000,\n",
    "    'retrieval_requests' : 10000,\n",
    "    'data_retrieval' : 1*1024,\n",
    "    'outbound_trasfer' : 1*1024\n",
    "}\n",
    "storage_cost(choices, attributes, 'storage_annual.svg', True)"
   ]
  },
  {
   "cell_type": "code",
   "execution_count": null,
   "metadata": {},
   "outputs": [],
   "source": []
  }
 ],
 "metadata": {
  "kernelspec": {
   "display_name": "Python 3",
   "language": "python",
   "name": "python3"
  },
  "language_info": {
   "codemirror_mode": {
    "name": "ipython",
    "version": 3
   },
   "file_extension": ".py",
   "mimetype": "text/x-python",
   "name": "python",
   "nbconvert_exporter": "python",
   "pygments_lexer": "ipython3",
   "version": "3.6.8"
  }
 },
 "nbformat": 4,
 "nbformat_minor": 2
}
