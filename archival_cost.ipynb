{
 "cells": [
  {
   "cell_type": "code",
   "execution_count": 4,
   "metadata": {},
   "outputs": [],
   "source": [
    "import pygal\n",
    "import matplotlib.pyplot as plt\n",
    "import numpy as np\n",
    "from IPython.display import SVG, display\n",
    "from archival_cost import Cloud, Sync"
   ]
  },
  {
   "cell_type": "markdown",
   "metadata": {},
   "source": [
    "## Cloud options"
   ]
  },
  {
   "cell_type": "code",
   "execution_count": 5,
   "metadata": {},
   "outputs": [],
   "source": [
    "azure_archive_LRS_east = Cloud('Azure Archive LRS', 'Canada East', 'CAD')\n",
    "azure_archive_LRS_east.set_costs(\n",
    "    storage_tiers = [50*1024, 500*1024, 1e31], \n",
    "    storage_costs = [0.0031,  0.0031,   0.0031], \n",
    "    manipulation_request_cost = 0.3/10000,\n",
    "    retrieval_request_cost = 7.68/10000,\n",
    "    retrieval_costs = 0.0308,\n",
    "    outbound_tiers = [5, 10*1024, 50*1024, 150*1024, 500*1024],\n",
    "    outbound_costs = [0, 0.112,   0.107,   0.090,    0.064]\n",
    ")"
   ]
  },
  {
   "cell_type": "code",
   "execution_count": 7,
   "metadata": {},
   "outputs": [],
   "source": [
    "azure_archive_GRS_east = Cloud('Azure Archive GRS', 'Canada East', 'CAD')\n",
    "azure_archive_GRS_east.set_costs(\n",
    "    storage_tiers = [50*1024, 500*1024, 1e31], \n",
    "    storage_costs = [0.0060,  0.0060,   0.0060], \n",
    "    manipulation_request_cost = 0.3/10000,\n",
    "    retrieval_request_cost = 7.68/10000,\n",
    "    retrieval_costs = 0.0308,\n",
    "    outbound_tiers = [5, 10*1024, 50*1024, 150*1024, 500*1024],\n",
    "    outbound_costs = [0, 0.112,   0.107,   0.090,    0.064]\n",
    ")"
   ]
  },
  {
   "cell_type": "code",
   "execution_count": 8,
   "metadata": {},
   "outputs": [],
   "source": [
    "azure_archive_LRS_central = Cloud('Azure Archive LRS', 'Canada Central', 'CAD')\n",
    "azure_archive_LRS_central.set_costs(\n",
    "    storage_tiers = [50*1024, 500*1024, 1e31], \n",
    "    storage_costs = [0.0029,  0.0029,   0.0029], \n",
    "    manipulation_request_cost = 0.3/10000,\n",
    "    retrieval_request_cost = 7.04/10000,\n",
    "    retrieval_costs = 0.0282,\n",
    "    outbound_tiers = [5, 10*1024, 50*1024, 150*1024, 500*1024],\n",
    "    outbound_costs = [0, 0.112,   0.107,   0.090,    0.064]\n",
    ")"
   ]
  },
  {
   "cell_type": "code",
   "execution_count": 9,
   "metadata": {},
   "outputs": [],
   "source": [
    "azure_archive_GRS_central = Cloud('Azure Archive GRS', 'Canada Central', 'CAD')\n",
    "azure_archive_GRS_central.set_costs(\n",
    "    storage_tiers = [50*1024, 500*1024, 1e31], \n",
    "    storage_costs = [0.0060,  0.0060,   0.0060], \n",
    "    manipulation_request_cost = 0.3/10000,\n",
    "    retrieval_request_cost = 7.04/10000,\n",
    "    retrieval_costs = 0.0282,\n",
    "    outbound_tiers = [5, 10*1024, 50*1024, 150*1024, 500*1024],\n",
    "    outbound_costs = [0, 0.112,   0.107,   0.090,    0.064]\n",
    ")"
   ]
  },
  {
   "cell_type": "code",
   "execution_count": 10,
   "metadata": {},
   "outputs": [],
   "source": [
    "amazon_glacier_canada = Cloud('Amazon S3 Glacier BULK', 'Canada Central', 'USD')\n",
    "amazon_glacier_canada.set_costs(\n",
    "    storage_tiers = [1e31], \n",
    "    storage_costs = [0.0045], \n",
    "    manipulation_request_cost = 0.055/1000,\n",
    "    retrieval_request_cost = 0.0275/1000,\n",
    "    retrieval_costs = 0.00275,\n",
    "    outbound_tiers = [1, 10*1024, 50*1024, 150*1024, 1e31],\n",
    "    outbound_costs = [0, 0.09,    0.085,   0.07,    0.05]\n",
    ")"
   ]
  },
  {
   "cell_type": "code",
   "execution_count": 11,
   "metadata": {},
   "outputs": [],
   "source": [
    "google_coldline_canada = Cloud('Google Cloud Coldline', 'Montreal', 'CAD')\n",
    "google_coldline_canada.set_costs(\n",
    "    storage_tiers = [1e31], \n",
    "    storage_costs = [0.007], \n",
    "    manipulation_request_cost = 0.1/10000,\n",
    "    retrieval_request_cost = 0.05/10000,\n",
    "    retrieval_costs = 0.05,\n",
    "    outbound_tiers = [1024, 10*1024, 1e31],\n",
    "    outbound_costs = [0.12, 0.11,    0.08]\n",
    ")"
   ]
  },
  {
   "cell_type": "markdown",
   "metadata": {},
   "source": [
    "## File Sync Options"
   ]
  },
  {
   "cell_type": "code",
   "execution_count": 12,
   "metadata": {},
   "outputs": [],
   "source": [
    "teamshare = Sync('Teamshare', 'UBC', 'CAD')\n",
    "teamshare.set_costs(0.15)"
   ]
  },
  {
   "cell_type": "markdown",
   "metadata": {},
   "source": [
    "## Tape Archival Options"
   ]
  },
  {
   "cell_type": "code",
   "execution_count": 14,
   "metadata": {},
   "outputs": [],
   "source": [
    "import numpy"
   ]
  },
  {
   "cell_type": "markdown",
   "metadata": {},
   "source": [
    "### Plotting func def"
   ]
  },
  {
   "cell_type": "code",
   "execution_count": 117,
   "metadata": {},
   "outputs": [],
   "source": [
    "def find_intersections(xrange, choice, choice1):\n",
    "    diff = numpy.abs(choice-choice1)\n",
    "    mindiff = diff.min()\n",
    "    if mindiff > 10:\n",
    "        return False, False\n",
    "    x = numpy.where(diff == mindiff)[0][0]\n",
    "    return xrange[x], choice[x]"
   ]
  },
  {
   "cell_type": "code",
   "execution_count": 9,
   "metadata": {},
   "outputs": [],
   "source": [
    "def storage_cost(choices, attributes, filename, annual=False):\n",
    "    if annual:\n",
    "        chart = pygal.XY(xrange=(0,501), title='Archival Annual Comparison', x_title='Storage(TB)', y_title='Cost per Year (CAD)') \n",
    "    else:\n",
    "        chart = pygal.XY(xrange=(0,501), title='Archival Monthly Comparison', x_title='Storage(TB)', y_title='Cost per Month (CAD)')\n",
    "    x = np.arange(0, 500, 0.25)\n",
    "    for choice in choices:\n",
    "        choice.set_manipuation_requests(attributes['manipulation_requests'])\n",
    "        choice.set_retrieval_requests(attributes['retrieval_requests'])\n",
    "        choice.set_data_retrieval(attributes['data_retrieval'])\n",
    "        choice.set_outbound_transfer(attributes['outbound_trasfer'])\n",
    "        if annual:\n",
    "            y = [(i, choice.set_storage(i).yearly_cost()) for i in x]\n",
    "        else:\n",
    "            y = [(i, choice.set_storage(i).monthly_cost()) for i in x]\n",
    "        label = choice.name + \" \" + choice.location\n",
    "        choice.set_data_range(y)\n",
    "        chart.add(label, y)\n",
    "    for choice in choices:\n",
    "        \n",
    "    chart.render_to_file(filename) "
   ]
  },
  {
   "cell_type": "markdown",
   "metadata": {},
   "source": [
    "## Making plots"
   ]
  },
  {
   "cell_type": "code",
   "execution_count": 10,
   "metadata": {},
   "outputs": [],
   "source": [
    "choices = [azure_archive_LRS_east,\n",
    "           azure_archive_GRS_east,\n",
    "           azure_archive_LRS_central, \n",
    "           azure_archive_GRS_central,\n",
    "           amazon_glacier_canada, \n",
    "           google_coldline_canada]\n",
    "attributes = {\n",
    "    'manipulation_requests' : 10000,\n",
    "    'retrieval_requests' : 10000,\n",
    "    'data_retrieval' : 1*1024,\n",
    "    'outbound_trasfer' : 1*1024\n",
    "}\n",
    "storage_cost(choices, attributes, 'cloud_annual.svg', True)"
   ]
  },
  {
   "cell_type": "code",
   "execution_count": 11,
   "metadata": {},
   "outputs": [],
   "source": [
    "choices = [azure_archive_LRS_east,\n",
    "           azure_archive_GRS_east,\n",
    "           azure_archive_LRS_central, \n",
    "           azure_archive_GRS_central,\n",
    "           amazon_glacier_canada, \n",
    "           google_coldline_canada]\n",
    "attributes = {\n",
    "    'manipulation_requests' : 10000,\n",
    "    'retrieval_requests' : 10000,\n",
    "    'data_retrieval' : 1*1024,\n",
    "    'outbound_trasfer' : 1*1024\n",
    "}\n",
    "storage_cost(choices, attributes, 'cloud_monthly.svg', False)"
   ]
  },
  {
   "cell_type": "code",
   "execution_count": 12,
   "metadata": {},
   "outputs": [],
   "source": [
    "choices = [azure_archive_LRS_east,\n",
    "           azure_archive_GRS_east,\n",
    "           azure_archive_LRS_central, \n",
    "           azure_archive_GRS_central,\n",
    "           amazon_glacier_canada, \n",
    "           google_coldline_canada,\n",
    "           teamshare]\n",
    "attributes = {\n",
    "    'manipulation_requests' : 10000,\n",
    "    'retrieval_requests' : 10000,\n",
    "    'data_retrieval' : 1*1024,\n",
    "    'outbound_trasfer' : 1*1024\n",
    "}\n",
    "storage_cost(choices, attributes, 'storage_monthly.svg', False)"
   ]
  },
  {
   "cell_type": "code",
   "execution_count": 13,
   "metadata": {},
   "outputs": [],
   "source": [
    "choices = [azure_archive_LRS_east,\n",
    "           azure_archive_GRS_east,\n",
    "           azure_archive_LRS_central, \n",
    "           azure_archive_GRS_central,\n",
    "           amazon_glacier_canada, \n",
    "           google_coldline_canada,\n",
    "           teamshare]\n",
    "attributes = {\n",
    "    'manipulation_requests' : 10000,\n",
    "    'retrieval_requests' : 10000,\n",
    "    'data_retrieval' : 1*1024,\n",
    "    'outbound_trasfer' : 1*1024\n",
    "}\n",
    "storage_cost(choices, attributes, 'storage_annual.svg', True)"
   ]
  },
  {
   "cell_type": "code",
   "execution_count": null,
   "metadata": {},
   "outputs": [],
   "source": []
  }
 ],
 "metadata": {
  "kernelspec": {
   "display_name": "Python 3",
   "language": "python",
   "name": "python3"
  },
  "language_info": {
   "codemirror_mode": {
    "name": "ipython",
    "version": 3
   },
   "file_extension": ".py",
   "mimetype": "text/x-python",
   "name": "python",
   "nbconvert_exporter": "python",
   "pygments_lexer": "ipython3",
   "version": "3.7.3"
  }
 },
 "nbformat": 4,
 "nbformat_minor": 2
}
