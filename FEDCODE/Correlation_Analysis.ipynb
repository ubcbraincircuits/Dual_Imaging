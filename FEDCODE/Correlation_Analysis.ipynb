{
 "cells": [
  {
   "cell_type": "code",
   "execution_count": 4,
   "metadata": {
    "collapsed": true
   },
   "outputs": [],
   "source": [
    "# Imports\n",
    "import numpy as np\n",
    "#Shape of the data\n",
    "height = 256\n",
    "width = 256"
   ]
  },
  {
   "cell_type": "code",
   "execution_count": 1,
   "metadata": {
    "collapsed": true
   },
   "outputs": [],
   "source": [
    "# Experiment 1\n",
    "exp1_B1_bas1 = \"/media/gu4n1n3/Data/Mini_project/Experiment_1/Mouse_B1_Rig_1/dual_mice_2_with_B2_short_blue/vid2017-06-18-13-15-01.260736.raw\"\n",
    "\n",
    "# Experiment 2\n",
    "baseline_B1 = \"/media/gu4n1n3/Data/Mini_project/Experiment_1/Mouse_B1_Rig_1/dual_mice_3_with_B2_metronome_on_short_blue/vid2017-06-18-13-22-28.074153.raw\"\n",
    "baseline_B2 = \"/media/gu4n1n3/Data/Mini_project/Experiment_1/Mouse_B2_Rig_2/dual_mice_3_B1_orig_metronome_sound_on_short_blue/vid2017-06-18-13-22-27.939263.raw\"\n",
    "\n",
    "exp2_met1_on_1_B2 = \"/media/gu4n1n3/Data/Mini_project/Experiment_2/Mouse_B2/dual_mice_3_metronome_on_B3_orig/vid2017-06-19-09-02-13.551517.raw\"\n",
    "exp2_met1_on_1_B3 = \"/media/gu4n1n3/Data/Mini_project/Experiment_2/Mouse_B3/Dual_Mice_3_metronome_on_with_B2/vid2017-06-19-09-02-13.560531.raw\"\n",
    "\n",
    "exp2_met2_off_2_B2 = \"/media/gu4n1n3/Data/Mini_project/Experiment_2/Mouse_B2/dual_mice_4_metronome_off_B3_orig_baseline/vid2017-06-19-09-08-11.326002.raw\"\n",
    "exp2_met2_off_2_B3 = \"/media/gu4n1n3/Data/Mini_project/Experiment_2/Mouse_B3/Dual_mice_4_metronome_off_with_B2/vid2017-06-19-09-08-11.413870.raw\"\n",
    "\n",
    "exp2_met0_off_B2 = \"/media/gu4n1n3/Data/Mini_project/Experiment_2/Mouse_B2/dual_mice_2_mouse_B3_orig_baseline_short_blue/vid2017-06-19-08-50-59.648039.raw\"\n",
    "exp2_met0_off_B3 = \"/media/gu4n1n3/Data/Mini_project/Experiment_2/Mouse_B3/Dual_Mice_2_with_Mouse_B2_short_blue_metronome_off/vid2017-06-19-08-50-59.645421.raw\"\n",
    "\n",
    "exp2_wht_noise_B2 = \"/media/gu4n1n3/Data/Mini_project/Experiment_2/Mouse_B2/dual_mice_6_white_noise_B3_orig_baseline/vid2017-06-19-09-24-04.907867.raw\"\n",
    "exp2_wht_noise_B3 = \"/media/gu4n1n3/Data/Mini_project/Experiment_2/Mouse_B3/Dual_mice_6_white_noise_on_with_B2/vid2017-06-19-09-24-05.092101.raw\"\n",
    "\n",
    "exp_1_074_baseline = \"/media/gu4n1n3/Data1/picam_videos/vid2017-06-21-18-34-01.790557.raw\"\n",
    "exp_1_185_baseline = \"/media/gu4n1n3/Data2/picam_videos/vid2017-07-18-13-36-35.450339.raw\"\n",
    "\n",
    "exp_1_074_audio = \"/media/gu4n1n3/Data/2_mice/exp_1/vid2017-06-22-19-22-M074.raw\"\n",
    "exp_1_185_audio = \"/media/gu4n1n3/Data/2_mice/exp_1/vid2017-07-19-14-35-M185.raw\""
   ]
  },
  {
   "cell_type": "code",
   "execution_count": 2,
   "metadata": {
    "collapsed": false
   },
   "outputs": [],
   "source": [
    "# Load the frames\n",
    "def get_raw_frames(filename):\n",
    "    with open(filename, \"rb\") as file:\n",
    "        raw_frames = np.fromfile(file, dtype=np.uint8)\n",
    "        raw_frames = np.reshape(raw_frames, (int(raw_frames.shape[0]/(width*height*3)), height, width, 3))\n",
    "        print(np.shape(raw_frames))\n",
    "    return raw_frames[:, :, :, 1]\n",
    "    \n",
    "def get_dark_frames(green_frames):\n",
    "    threshold = 5\n",
    "    green_frames = np.reshape(green_frames, (green_frames.shape[0], green_frames.shape[1]*green_frames.shape[2]))\n",
    "    temporal_means = np.mean(green_frames, axis=1)\n",
    "    start_index = 0\n",
    "    end_index = 0\n",
    "    print(\"Shape of the means\", np.shape(temporal_means))\n",
    "    print(temporal_means.shape[0]-1)\n",
    "    for mean, i in zip(temporal_means, range(0, temporal_means.shape[0]-1)):\n",
    "        if mean < threshold and i < 1000:\n",
    "            start_index= i\n",
    "        elif mean < threshold and i >= 1000:\n",
    "            end_index = i\n",
    "            break\n",
    "    print(start_index)\n",
    "    print(end_index)\n",
    "    return (start_index, end_index)"
   ]
  },
  {
   "cell_type": "code",
   "execution_count": null,
   "metadata": {
    "collapsed": true
   },
   "outputs": [],
   "source": [
    "# General Experiment.. pls\n",
    "\n"
   ]
  },
  {
   "cell_type": "code",
   "execution_count": 76,
   "metadata": {
    "collapsed": false
   },
   "outputs": [
    {
     "name": "stdout",
     "output_type": "stream",
     "text": [
      "(5185, 256, 256, 3)\n",
      "(5186, 256, 256, 3)\n",
      "35.0041809082\n"
     ]
    }
   ],
   "source": [
    "B1_green_frames = get_raw_frames(baseline_B1)\n",
    "B2_green_frames = get_raw_frames(baseline_B2)\n",
    "print(np.mean(B1_green_frames[250, :, :]))\n",
    "B1_green_frames = B1_green_frames[84:4944, :, :]\n",
    "B2_green_frames = B2_green_frames[84:4944, :, :]"
   ]
  },
  {
   "cell_type": "code",
   "execution_count": 59,
   "metadata": {
    "collapsed": false
   },
   "outputs": [
    {
     "name": "stdout",
     "output_type": "stream",
     "text": [
      "(4860, 512, 256)\n"
     ]
    }
   ],
   "source": [
    "combined_green = np.concatenate((B1_green_frames, B2_green_frames), axis=1)\n",
    "print(combined_green.shape)"
   ]
  },
  {
   "cell_type": "code",
   "execution_count": 60,
   "metadata": {
    "collapsed": true
   },
   "outputs": [],
   "source": [
    "combined_green.tofile(\"/media/gu4n1n3/Data/Mini_project/combined_test.raw\")"
   ]
  },
  {
   "cell_type": "code",
   "execution_count": 63,
   "metadata": {
    "collapsed": false
   },
   "outputs": [
    {
     "data": {
      "text/plain": [
       "36.069168090820312"
      ]
     },
     "execution_count": 63,
     "metadata": {},
     "output_type": "execute_result"
    }
   ],
   "source": [
    "np.mean(B1_green_frames[50, :, :])"
   ]
  },
  {
   "cell_type": "code",
   "execution_count": 20,
   "metadata": {
    "collapsed": false
   },
   "outputs": [
    {
     "name": "stdout",
     "output_type": "stream",
     "text": [
      "(5187, 256, 256, 3)\n"
     ]
    }
   ],
   "source": [
    "#Experiment 1\n",
    "B1_gr_frames_bas1 = get_raw_frames(exp1_B1_bas1)"
   ]
  },
  {
   "cell_type": "code",
   "execution_count": 10,
   "metadata": {
    "collapsed": false
   },
   "outputs": [
    {
     "name": "stdout",
     "output_type": "stream",
     "text": [
      "(5186, 256, 256, 3)\n",
      "(5186, 256, 256, 3)\n",
      "(5185, 256, 256, 3)\n",
      "(5178, 256, 256, 3)\n"
     ]
    }
   ],
   "source": [
    "B2_gr_frames_met1 = get_raw_frames(exp2_met1_on_1_B2)\n",
    "B3_gr_frames_met1 = get_raw_frames(exp2_met1_on_1_B3)\n",
    "\n",
    "B2_gr_frames_met2 = get_raw_frames(exp2_met2_off_2_B2)\n",
    "B3_gr_frames_met2 = get_raw_frames(exp2_met2_off_2_B3)\n",
    "\n"
   ]
  },
  {
   "cell_type": "code",
   "execution_count": 8,
   "metadata": {
    "collapsed": false
   },
   "outputs": [
    {
     "name": "stdout",
     "output_type": "stream",
     "text": [
      "(5185, 256, 256, 3)\n",
      "(5186, 256, 256, 3)\n"
     ]
    }
   ],
   "source": [
    "B2_gr_frames_met0 = get_raw_frames(exp2_met0_off_B2)\n",
    "B3_gr_frames_met0 = get_raw_frames(exp2_met0_off_B3)"
   ]
  },
  {
   "cell_type": "code",
   "execution_count": 28,
   "metadata": {
    "collapsed": false
   },
   "outputs": [
    {
     "name": "stdout",
     "output_type": "stream",
     "text": [
      "(5185, 256, 256, 3)\n",
      "(5186, 256, 256, 3)\n",
      "(5185,)\n",
      "5184\n",
      "85\n",
      "4957\n",
      "(5186,)\n",
      "5185\n",
      "80\n",
      "4952\n"
     ]
    }
   ],
   "source": [
    "#Experiment 2 white noise condition\n",
    "B2_gr_frames_wht = get_raw_frames(exp2_wht_noise_B2)\n",
    "B3_gr_frames_wht = get_raw_frames(exp2_wht_noise_B3)\n",
    "\n",
    "start, stop = get_dark_frames(B2_gr_frames_wht)\n",
    "B2_gr_frames_wht = B2_gr_frames_wht[start+2:stop-1, :, :]\n",
    "start, stop = get_dark_frames(B3_gr_frames_wht)\n",
    "B3_gr_frames_wht = B3_gr_frames_wht[start+2:stop-1, :, :]"
   ]
  },
  {
   "cell_type": "code",
   "execution_count": 21,
   "metadata": {
    "collapsed": false
   },
   "outputs": [
    {
     "name": "stdout",
     "output_type": "stream",
     "text": [
      "(5187,)\n",
      "5186\n",
      "69\n",
      "4941\n"
     ]
    }
   ],
   "source": [
    "# Experiment 1 cut dark frames\n",
    "#Mixup two mice baselines pre-metronome.\n",
    "start, stop = get_dark_frames(B1_gr_frames_bas1)\n",
    "B1_gr_frames_bas1 = B1_gr_frames_bas1[start+2:stop-1, :, :]\n"
   ]
  },
  {
   "cell_type": "code",
   "execution_count": 11,
   "metadata": {
    "collapsed": false
   },
   "outputs": [
    {
     "name": "stdout",
     "output_type": "stream",
     "text": [
      "(5186,)\n",
      "5185\n",
      "65\n",
      "4944\n",
      "(5186,)\n",
      "5185\n",
      "63\n",
      "4942\n",
      "(5185,)\n",
      "5184\n",
      "97\n",
      "4969\n",
      "(5178,)\n",
      "5177\n",
      "95\n",
      "4967\n",
      "(5185,)\n",
      "5184\n",
      "78\n",
      "4950\n",
      "(5186,)\n",
      "5185\n",
      "78\n",
      "4950\n"
     ]
    }
   ],
   "source": [
    "\n",
    "# Experiment 2\n",
    "start, stop = get_dark_frames(B2_gr_frames_met1)\n",
    "B2_gr_frames_met1 = B2_gr_frames_met1[start+2:stop-1, :, :]\n",
    "start, stop = get_dark_frames(B3_gr_frames_met1)\n",
    "B3_gr_frames_met1 = B3_gr_frames_met1[start+2:stop-1, :, :]\n",
    "\n",
    "start, stop = get_dark_frames(B2_gr_frames_met2)\n",
    "B2_gr_frames_met2 = B2_gr_frames_met2[start+2:stop-1, :, :]\n",
    "start, stop = get_dark_frames(B3_gr_frames_met2)\n",
    "B3_gr_frames_met2 = B3_gr_frames_met2[start+2:stop-1, :, :]\n",
    "\n",
    "start, stop = get_dark_frames(B2_gr_frames_met0)\n",
    "B2_gr_frames_met0 = B2_gr_frames_met0[start+2:stop-1, :, :]\n",
    "start, stop = get_dark_frames(B3_gr_frames_met0)\n",
    "B3_gr_frames_met0 = B3_gr_frames_met0[start+2:stop-1, :, :]"
   ]
  },
  {
   "cell_type": "code",
   "execution_count": 23,
   "metadata": {
    "collapsed": false
   },
   "outputs": [
    {
     "name": "stdout",
     "output_type": "stream",
     "text": [
      "(3457, 256, 256, 3)\n",
      "(3455, 256, 256, 3)\n",
      "Shape of the means (3457,)\n",
      "3456\n",
      "68\n",
      "2663\n",
      "Shape of the means (3455,)\n",
      "3454\n",
      "63\n",
      "2654\n"
     ]
    }
   ],
   "source": [
    "# Experiment 1 at Murphy lab\n",
    "exp1_074_frames = get_raw_frames(exp_1_074_baseline)\n",
    "exp1_185_frames = get_raw_frames(exp_1_185_baseline)\n",
    "\n",
    "start, stop = get_dark_frames(exp1_074_frames)\n",
    "exp1_074_frames = exp1_074_frames[start+2:stop-1, :, :]\n",
    "start, stop = get_dark_frames(exp1_185_frames)\n",
    "exp1_185_frames = exp1_185_frames[start+2:stop-1, :, :]"
   ]
  },
  {
   "cell_type": "code",
   "execution_count": 8,
   "metadata": {
    "collapsed": false
   },
   "outputs": [
    {
     "name": "stdout",
     "output_type": "stream",
     "text": [
      "(8643, 256, 256, 3)\n",
      "(8642, 256, 256, 3)\n",
      "Shape of the means (8643,)\n",
      "8642\n",
      "111\n",
      "7892\n",
      "Shape of the means (8642,)\n",
      "8641\n",
      "49\n",
      "7831\n"
     ]
    }
   ],
   "source": [
    "# Experiment 1 at Murphy lab BUT WITH AUDIO RECORDING!!\n",
    "exp1_074_frames = get_raw_frames(exp_1_074_audio)\n",
    "exp1_185_frames = get_raw_frames(exp_1_185_audio)\n",
    "\n",
    "start, stop = get_dark_frames(exp1_074_frames)\n",
    "exp1_074_frames = exp1_074_frames[start+2:stop-1, :, :]\n",
    "start, stop = get_dark_frames(exp1_185_frames)\n",
    "exp1_185_frames = exp1_185_frames[start+2:stop-1, :, :]"
   ]
  },
  {
   "cell_type": "code",
   "execution_count": 9,
   "metadata": {
    "collapsed": false
   },
   "outputs": [
    {
     "name": "stdout",
     "output_type": "stream",
     "text": [
      "(7778, 256, 256)\n",
      "(7778, 256, 256)\n"
     ]
    }
   ],
   "source": [
    "print(exp1_074_frames.shape)\n",
    "print(exp1_185_frames.shape)"
   ]
  },
  {
   "cell_type": "code",
   "execution_count": 10,
   "metadata": {
    "collapsed": false
   },
   "outputs": [],
   "source": [
    "# Writing to disk experiment of 074 and shit\n",
    "combined_074_185 = np.concatenate((exp1_074_frames, exp1_185_frames), axis=1)\n",
    "combined_074_185.tofile(\"/media/gu4n1n3/Data/2_mice/exp_1/074_185_audio.raw\")"
   ]
  },
  {
   "cell_type": "code",
   "execution_count": 24,
   "metadata": {
    "collapsed": true
   },
   "outputs": [],
   "source": [
    "# The metronome stimulus experiment 2\n",
    "combined_green = np.concatenate((B2_gr_frames_met1, B3_gr_frames_met1), axis=1)\n",
    "combined_green.tofile(\"/media/gu4n1n3/Data/Mini_project/exp_2_concat_B2B3_met1.raw\")\n",
    "# The post-metronome stimulus experiment 2\n",
    "combined_green = np.concatenate((B2_gr_frames_met2, B3_gr_frames_met2), axis=1)\n",
    "combined_green.tofile(\"/media/gu4n1n3/Data/Mini_project/exp_2_concat_B2B3_met2.raw\")"
   ]
  },
  {
   "cell_type": "code",
   "execution_count": 16,
   "metadata": {
    "collapsed": false
   },
   "outputs": [],
   "source": [
    "# The pre metronome stimulus baseline\n",
    "met0_combined = np.concatenate((B2_gr_frames_met0, B3_gr_frames_met0), axis=1)\n",
    "met0_combined.tofile(\"/media/gu4n1n3/Data/Mini_project/exp2_concat_B2B3_met0.raw\")"
   ]
  },
  {
   "cell_type": "code",
   "execution_count": 23,
   "metadata": {
    "collapsed": false
   },
   "outputs": [],
   "source": [
    "# Used exp1 B1 baseline dual pre_metronome, then B2 exp2 pre_metronome.\n",
    "mixup_combined = np.concatenate((B2_gr_frames_met0, B1_gr_frames_bas1), axis=1)\n",
    "mixup_combined.tofile(\"/media/gu4n1n3/Data/Mini_project/mixup_B2B1_exp2exp1.raw\")"
   ]
  },
  {
   "cell_type": "code",
   "execution_count": 29,
   "metadata": {
    "collapsed": true
   },
   "outputs": [],
   "source": [
    "# The experiment 2 white noise condition in mouse b2 and b3\n",
    "white_noise_combined = np.concatenate((B2_gr_frames_wht, B3_gr_frames_wht), axis=1)\n",
    "white_noise_combined.tofile(\"/media/gu4n1n3/Data/Mini_project/white_noise_B2B3_exp2.raw\")"
   ]
  },
  {
   "cell_type": "code",
   "execution_count": null,
   "metadata": {
    "collapsed": true
   },
   "outputs": [],
   "source": []
  }
 ],
 "metadata": {
  "anaconda-cloud": {},
  "kernelspec": {
   "display_name": "Python [Root]",
   "language": "python",
   "name": "Python [Root]"
  },
  "language_info": {
   "codemirror_mode": {
    "name": "ipython",
    "version": 3
   },
   "file_extension": ".py",
   "mimetype": "text/x-python",
   "name": "python",
   "nbconvert_exporter": "python",
   "pygments_lexer": "ipython3",
   "version": "3.5.4"
  }
 },
 "nbformat": 4,
 "nbformat_minor": 0
}
