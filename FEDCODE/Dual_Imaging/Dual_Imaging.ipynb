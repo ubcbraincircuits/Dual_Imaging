{
 "cells": [
  {
   "cell_type": "code",
   "execution_count": 2,
   "metadata": {},
   "outputs": [],
   "source": [
    "import video_processing as vp"
   ]
  },
  {
   "cell_type": "markdown",
   "metadata": {},
   "source": [
    "### Define some static global variables"
   ]
  },
  {
   "cell_type": "code",
   "execution_count": null,
   "metadata": {},
   "outputs": [],
   "source": []
  },
  {
   "cell_type": "markdown",
   "metadata": {},
   "source": [
    "### Extract the color channels from the RAW files"
   ]
  },
  {
   "cell_type": "code",
   "execution_count": null,
   "metadata": {},
   "outputs": [],
   "source": [
    "l_mouse_green_frames = vp.extract_channel(\n",
    "    filename=l_mouse,\n",
    "    channel='green',\n",
    "    width=WIDTH,\n",
    "    height=HEIGHT\n",
    ")\n",
    "\n",
    "r_mouse_green_frames = vp.extract_channel(\n",
    "    filename=r_mouse,\n",
    "    channel='green',\n",
    "    width=WIDTH,\n",
    "    height=HEIGHT\n",
    ")\n",
    "\n",
    "l_mouse_blue_frames = vp.extract_channel(\n",
    "    filename=l_mouse,\n",
    "    channel='blue',\n",
    "    width=WIDTH,\n",
    "    height=HEIGHT\n",
    ")\n",
    "\n",
    "r_mouse_blue_frames = vp.extract_channel(\n",
    "    filename=r_mouse,\n",
    "    channel='blue',\n",
    "    width=WIDTH,\n",
    "    height=HEIGHT\n",
    ")"
   ]
  },
  {
   "cell_type": "markdown",
   "metadata": {},
   "source": [
    "### Import RAW timestamps and clean the data"
   ]
  },
  {
   "cell_type": "code",
   "execution_count": null,
   "metadata": {},
   "outputs": [],
   "source": [
    "l_mouse_timestamps = vp.clean_raw_timestamps(l_mouse_timestamps_raw)\n",
    "r_mouse_timestamps = vp.clean_raw_timestamps(r_mouse_timestamps_raw)"
   ]
  },
  {
   "cell_type": "markdown",
   "metadata": {},
   "source": [
    "### Remove dark frames"
   ]
  },
  {
   "cell_type": "code",
   "execution_count": null,
   "metadata": {},
   "outputs": [],
   "source": [
    "# slice by threshold on green frames\n",
    "l_mouse_slice = vp.dark_frames_slice(frames=l_mouse_green_frames)\n",
    "r_mouse_slice = vp.dark_frames_slice(frames=r_mouse_green_frames)\n",
    "\n",
    "# slice green frames\n",
    "l_mouse_green_frames = l_mouse_green_frames[l_mouse_slice]\n",
    "r_mouse_green_frames = r_mouse_green_frames[r_mouse_slice]\n",
    "\n",
    "# slice blue frames\n",
    "l_mouse_blue_frames = l_mouse_blue_frames[l_mouse_slice]\n",
    "r_mouse_blue_frames = r_mouse_blue_frames[r_mouse_slice]\n",
    "\n",
    "# slice timestamps\n",
    "l_mouse_timestamps = l_mouse_timestamps[l_mouse_slice]\n",
    "r_mouse_timestamps = r_mouse_timestamps[r_mouse_slice]"
   ]
  },
  {
   "cell_type": "markdown",
   "metadata": {},
   "source": [
    "### Find locations of any dropped frames"
   ]
  },
  {
   "cell_type": "code",
   "execution_count": null,
   "metadata": {},
   "outputs": [],
   "source": [
    "l_mouse_delta, l_mouse_where_dropped = vp.get_locations_of_dropped_frames(\n",
    "    timestamps=l_mouse_timestamps,\n",
    "    fps=30\n",
    ")\n",
    "\n",
    "r_mouse_delta, r_mouse_where_dropped = vp.get_locations_of_dropped_frames(\n",
    "    timestamps=r_mouse_timestamps,\n",
    "    fps=30\n",
    ")"
   ]
  },
  {
   "cell_type": "markdown",
   "metadata": {},
   "source": [
    "### Fill in dropped frames by interpolating available data"
   ]
  },
  {
   "cell_type": "code",
   "execution_count": null,
   "metadata": {},
   "outputs": [],
   "source": [
    "# Create a list of DroppedFrames objects\n",
    "list_of_dropped_frames = [\n",
    "    vp.DroppedFrames(*args) for args in vp.generate_frames(\n",
    "        frames,\n",
    "        differences,\n",
    "        locations,\n",
    "        true_frame_rate\n",
    "    )  \n",
    "] # args need clarification !!!\n",
    "\n",
    "# Produce the interpolated frames\n",
    "list_of_interpolated_dropped_frames = [\n",
    "    DroppedFrames.interpolate() for DroppedFrames in list_of_dropped_frames\n",
    "]\n",
    "\n",
    "filled_frames = vp.insert_interpolated_frames(\n",
    "    frames,\n",
    "    list_of_interpolated_dropped_frames\n",
    ") #!!!"
   ]
  }
 ],
 "metadata": {
  "kernelspec": {
   "display_name": "Python 3",
   "language": "python",
   "name": "python3"
  },
  "language_info": {
   "codemirror_mode": {
    "name": "ipython",
    "version": 3
   },
   "file_extension": ".py",
   "mimetype": "text/x-python",
   "name": "python",
   "nbconvert_exporter": "python",
   "pygments_lexer": "ipython3",
   "version": "3.6.8"
  }
 },
 "nbformat": 4,
 "nbformat_minor": 2
}
