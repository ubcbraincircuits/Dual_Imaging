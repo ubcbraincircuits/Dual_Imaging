{
 "cells": [
  {
   "cell_type": "code",
   "execution_count": 1,
   "metadata": {},
   "outputs": [],
   "source": [
    "import video_processing as vp\n",
    "import matplotlib.pyplot as plt\n",
    "import seed\n",
    "import numpy"
   ]
  },
  {
   "cell_type": "markdown",
   "metadata": {},
   "source": [
    "## Static global variables and file names"
   ]
  },
  {
   "cell_type": "code",
   "execution_count": null,
   "metadata": {},
   "outputs": [],
   "source": [
    "HEIGHT = 256\n",
    "WIDTH = 256\n",
    "TRUE_FRAMERATE = 28.815\n",
    "\n",
    "mouse_brain_raw = \"\""
   ]
  },
  {
   "cell_type": "markdown",
   "metadata": {},
   "source": [
    "## Create Bregma from coordinates"
   ]
  },
  {
   "cell_type": "code",
   "execution_count": 4,
   "metadata": {},
   "outputs": [
    {
     "name": "stdout",
     "output_type": "stream",
     "text": [
      "Bregma Location:\n",
      "Column 147\n",
      "Row 133\n"
     ]
    }
   ],
   "source": [
    "image = numpy.zeros((256,256), dtype=numpy.uint8)\n",
    "bregma = seed.Bregma.from_coordinates(column=147, row=133)"
   ]
  },
  {
   "cell_type": "code",
   "execution_count": null,
   "metadata": {},
   "outputs": [],
   "source": [
    "seeds = seed.generate_scaled_seeds(\n",
    "    seeds=seeds,\n",
    "    bregma=bregma,\n",
    "    ppm=27.6,\n",
    "    direction=\"u\"\n",
    ")"
   ]
  },
  {
   "cell_type": "markdown",
   "metadata": {},
   "source": [
    "## Plot locations of seeds and bregma"
   ]
  },
  {
   "cell_type": "code",
   "execution_count": null,
   "metadata": {},
   "outputs": [],
   "source": [
    "normal_seeds_x_R = []\n",
    "normal_seeds_y_R = []\n",
    "normal_seeds_x_L = []\n",
    "normal_seeds_y_L = []\n",
    "image[br.row, br.col] = 255\n",
    "for seed in seeds:\n",
    "    if \"-R\" in seed.name:\n",
    "        image[seed.row, seed.col] = 255\n",
    "        normal_seeds_x_R.append(seed.col)\n",
    "        normal_seeds_y_R.append(seed.row)\n",
    "    else:\n",
    "        image[seed.row, seed.col] = 128\n",
    "        normal_seeds_x_L.append(seed.col)\n",
    "        normal_seeds_y_L.append(seed.row)\n",
    "    \n",
    "seeds_fig = plt.figure(figsize=(8, 8))\n",
    "seeds_ax = seeds_fig.add_subplot(111)\n",
    "seeds_ax.matshow(image)\n",
    "seeds_ax.plot(bregma.col, bregma.row, '.k')\n",
    "seeds_ax.plot(normal_seeds_x_L, normal_seeds_y_L, '.b')\n",
    "seeds_ax.plot(normal_seeds_x_R, normal_seeds_y_R, '.r')"
   ]
  },
  {
   "cell_type": "markdown",
   "metadata": {},
   "source": [
    "## Extract RAW frames, calculate $\\frac{\\Delta F}{F_0}$ and apply chebychev type I bandpass filter"
   ]
  },
  {
   "cell_type": "code",
   "execution_count": null,
   "metadata": {},
   "outputs": [],
   "source": [
    "mouse_green_frames = vp.extract_RAW_frames(\n",
    "    mouse_brain_raw,\n",
    "    width=WIDTH,\n",
    "    height=HEIGHT,\n",
    "    channel='green'\n",
    ")"
   ]
  },
  {
   "cell_type": "code",
   "execution_count": null,
   "metadata": {},
   "outputs": [],
   "source": [
    "#var_green_frames = numpy.var(mouse_green_frames, axis=0)\n",
    "#mean_green_frames = numpy.mean(mouse_green_frames, axis=0)\n",
    "mouse_green_frames, var_green_frames = vp.calculate_df_f0(mouse_green_frames)"
   ]
  },
  {
   "cell_type": "code",
   "execution_count": 6,
   "metadata": {},
   "outputs": [],
   "source": [
    "low_limit = 0.01\n",
    "high_limit = 12.0\n",
    "cheby1_params = vp.Filter(low_limit, high_limit, TRUE_FRAMERATE, order=3)\n",
    "mouse_green_frames = cheby1_params.filter(mouse_green_frames)"
   ]
  },
  {
   "cell_type": "markdown",
   "metadata": {},
   "source": [
    "## Generate correlation matrix"
   ]
  },
  {
   "cell_type": "code",
   "execution_count": 3,
   "metadata": {},
   "outputs": [
    {
     "name": "stdout",
     "output_type": "stream",
     "text": [
      "Bregma Location:\n",
      "Column 140\n",
      "Row 133\n"
     ]
    }
   ],
   "source": [
    "bregma = seed.Bregma.from_coordinates(140, 133)\n",
    "ppmm = 26.5\n",
    "seeds = (\n",
    "    (\"M1\", 1.03 + 1, 1.365),\n",
    "    (\"FL\", 0.16, 2.47),\n",
    "    (\"HL\", -0.7, 1.85),\n",
    "    (\"aBC\", -1.36 + 0.575, 3.35),\n",
    "    (\"pBC\", -1.9, 3.35),\n",
    "    (\"AC\", 0 + 1, 0.6),\n",
    "    (\"RS\", -2.8858 + 1, 0.62043),\n",
    "    (\"V1\", -4.2678 + 0.8, 2.5168),\n",
    "    (\"mPTA\", -2.4962, 2.2932),\n",
    "    (\"lPTA\", -2.4962 - 0.3, 3.35 - 0.2),\n",
    "    (\"Un\", -1.5, 2.6),\n",
    ")\n",
    "scaled_seeds = seed.generate_scaled_seeds(\n",
    "    seeds, bregma, ppm\n",
    ")\n"
   ]
  },
  {
   "cell_type": "code",
   "execution_count": null,
   "metadata": {},
   "outputs": [],
   "source": [
    "seed.generate_correlation_matrix(\n",
    "    l_mouse_frames=mouse_green_frames, \n",
    "    r_mouse_frames=mouse_green_frames, # pass truncated frames\n",
    "    l_seeds=scaled_seeds,\n",
    "    r_seeds=scaled_seeds,\n",
    "    title=\"Correlation matrix for one mouse\",\n",
    "    filename=\"correlation_matrix\",\n",
    "    radius=5,\n",
    "    interpolation=\"nearest\",\n",
    "    cmap=\"viridis\",\n",
    "    figsize=(10, 11)\n",
    ")"
   ]
  },
  {
   "cell_type": "code",
   "execution_count": 4,
   "metadata": {},
   "outputs": [],
   "source": [
    "def plot_seed_pixel_gallery(\n",
    "    seeds,\n",
    "    seed_frames,\n",
    "    other_frames,\n",
    "    title,\n",
    "    ncols=5,\n",
    "    figsize=(13, 13),\n",
    "    cmap=\"viridis\",\n",
    "):\n",
    "    # for each of the speed pixels, generate a correlation map\n",
    "    num_seeds = len(seeds)\n",
    "    _, height, width = other_frames.shape\n",
    "    correlation_maps = numpy.zeros(\n",
    "        (num_seeds, height, width)\n",
    "    )\n",
    "    for seed_index, seed in enumerate(seeds):\n",
    "        seed_signal = seed_frames[:, seed.row, seed.col]\n",
    "        for i in range(height):\n",
    "            for j in range(width):\n",
    "                correlation_maps[\n",
    "                    seed_index, i, j\n",
    "                ] = pearsonr(\n",
    "                    other_frames[:, i, j], seed_signal\n",
    "                )\n",
    "    fig = plt.figure(figsize=figsize)\n",
    "    nrows = num_seeds / ncols\n",
    "    if int(nrows) == nrows:\n",
    "        nrows = int(nrows)\n",
    "    else:\n",
    "        nrows = int(nrows) + 1\n",
    "    # generate the plots\n",
    "    for i, correlation_map in enumerate(correlation_maps):\n",
    "        ax = fig.subplot(nrows, ncols, i + 1)\n",
    "        plot = ax.matshow(\n",
    "            correlation_map, vmin=0.0, vmax=1.0, cmap=cmap\n",
    "        )\n",
    "        ax.set_title(seeds[i].name)\n",
    "        fig.colorbar(plot, ax=ax, fraction=0.046, pad=0.04)\n",
    "        ax.get_yaxis().set_visible(False)\n",
    "        ax.get_xaxis().set_visible(False)\n",
    "    fig.suptitle(title)"
   ]
  },
  {
   "cell_type": "code",
   "execution_count": null,
   "metadata": {},
   "outputs": [],
   "source": [
    "plot_seed_pixel_gallery(\n",
    "    seeds, \n",
    "    mouse_green_frames,\n",
    "    mouse_green_frames,\n",
    "    \"Seed Pixel Gallery\",\n",
    ")"
   ]
  }
 ],
 "metadata": {
  "kernelspec": {
   "display_name": "Python 3",
   "language": "python",
   "name": "python3"
  },
  "language_info": {
   "codemirror_mode": {
    "name": "ipython",
    "version": 3
   },
   "file_extension": ".py",
   "mimetype": "text/x-python",
   "name": "python",
   "nbconvert_exporter": "python",
   "pygments_lexer": "ipython3",
   "version": "3.6.8"
  }
 },
 "nbformat": 4,
 "nbformat_minor": 2
}
