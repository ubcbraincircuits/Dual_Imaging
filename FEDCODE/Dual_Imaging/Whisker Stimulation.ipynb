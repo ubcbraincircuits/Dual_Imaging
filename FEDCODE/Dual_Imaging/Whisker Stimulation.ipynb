{
 "cells": [
  {
   "cell_type": "code",
   "execution_count": 1,
   "metadata": {},
   "outputs": [],
   "source": [
    "import video_processing as vp\n",
    "from roipoly import RoiPoly "
   ]
  },
  {
   "cell_type": "markdown",
   "metadata": {},
   "source": [
    "### Define some static global variables"
   ]
  },
  {
   "cell_type": "code",
   "execution_count": 2,
   "metadata": {},
   "outputs": [],
   "source": [
    "WIDTH = 256\n",
    "HEIGHT = 256"
   ]
  },
  {
   "cell_type": "code",
   "execution_count": 3,
   "metadata": {},
   "outputs": [],
   "source": [
    "l_mouse = \"D:/2_mice/20180221/Experiment_5/MM803L_February-21_1512_experiment-5_MXXXR_wt_whisker_stim_lower.raw\"\n",
    "r_mouse = \"D:/2_mice/20180221/Experiment_5/MMXXXR_February-21_1514_experiment-5_M804L_wt_whisker_stim_lower.raw\"\n",
    "l_mouse_timestamps_raw = \"D:/2_mice/20180221/Experiment_5/MM803L_February-21_1512_experiment-5_MXXXR_wt_whisker_stim_lower_timestamps.raw\"\n",
    "r_mouse_timestamps_raw = \"D:/2_mice/20180221/Experiment_5/MMXXXR_February-21_1514_experiment-5_M804L_wt_whisker_stim_lower_timestamps.raw\" \n",
    "stim_frames = \"D:/2_mice/20180221/Experiment_5/MMXXXR_February-21_1514_experiment-5_M804L_wt_whisker_stim_lower_stim_frames.txt\""
   ]
  },
  {
   "cell_type": "markdown",
   "metadata": {},
   "source": [
    "### Extract the color channels from the RAW files"
   ]
  },
  {
   "cell_type": "code",
   "execution_count": null,
   "metadata": {},
   "outputs": [],
   "source": [
    "l_mouse_green_frames = vp.extract_RAW_frames(\n",
    "    filename=l_mouse,\n",
    "    channel='green',\n",
    "    width=WIDTH,\n",
    "    height=HEIGHT\n",
    ")\n",
    "\n",
    "r_mouse_green_frames = vp.extract_RAW_frames(\n",
    "    filename=r_mouse,\n",
    "    channel='green',\n",
    "    width=WIDTH,\n",
    "    height=HEIGHT\n",
    ")\n",
    "\n",
    "l_mouse_blue_frames = vp.extract_RAW_frames(\n",
    "    filename=l_mouse,\n",
    "    channel='blue',\n",
    "    width=WIDTH,\n",
    "    height=HEIGHT\n",
    ")\n",
    "\n",
    "r_mouse_blue_frames = vp.extract_RAW_frames(\n",
    "    filename=r_mouse,\n",
    "    channel='blue',\n",
    "    width=WIDTH,\n",
    "    height=HEIGHT\n",
    ")\n",
    "\n",
    "l_mouse_red_frames = vp.extract_RAW_frames(\n",
    "    filename=l_mouse,\n",
    "    channel='red',\n",
    "    width=WIDTH,\n",
    "    height=HEIGHT\n",
    ")\n",
    "\n",
    "r_mouse_red_frames = vp.extract_RAW_frames(\n",
    "    filename=r_mouse,\n",
    "    channel='red',\n",
    "    width=WIDTH,\n",
    "    height=HEIGHT\n",
    ")"
   ]
  },
  {
   "cell_type": "markdown",
   "metadata": {},
   "source": [
    "### Import RAW timestamps and clean the data"
   ]
  },
  {
   "cell_type": "code",
   "execution_count": null,
   "metadata": {},
   "outputs": [],
   "source": [
    "l_mouse_timestamps = vp.clean_raw_timestamps(l_mouse_timestamps_raw)\n",
    "r_mouse_timestamps = vp.clean_raw_timestamps(r_mouse_timestamps_raw)"
   ]
  },
  {
   "cell_type": "markdown",
   "metadata": {},
   "source": [
    "### Remove dark frames"
   ]
  },
  {
   "cell_type": "code",
   "execution_count": null,
   "metadata": {},
   "outputs": [],
   "source": [
    "# slice by threshold on green frames\n",
    "l_mouse_slice = vp.DarkFramesSlice.threshold_method(l_mouse_green_frames)\n",
    "r_mouse_slice = vp.DarkFramesSlice.threshold_method(r_mouse_green_frames)\n",
    "\n",
    "# slice green frames\n",
    "l_mouse_green_frames = l_mouse_green_frames[l_mouse_slice]\n",
    "r_mouse_green_frames = r_mouse_green_frames[r_mouse_slice]\n",
    "\n",
    "# slice blue frames\n",
    "l_mouse_blue_frames = l_mouse_blue_frames[l_mouse_slice]\n",
    "r_mouse_blue_frames = r_mouse_blue_frames[r_mouse_slice]\n",
    "\n",
    "#slice red frames\n",
    "l_mouse_red_frames = l_mouse_red_frames[l_mouse_slice]\n",
    "r_mouse_red_frames = r_mouse_red_frames[r_mouse_slice]\n",
    "\n",
    "# slice timestamps\n",
    "l_mouse_timestamps = l_mouse_timestamps[l_mouse_slice]\n",
    "r_mouse_timestamps = r_mouse_timestamps[r_mouse_slice]"
   ]
  },
  {
   "cell_type": "markdown",
   "metadata": {},
   "source": [
    "### Find locations of any dropped frames"
   ]
  },
  {
   "cell_type": "code",
   "execution_count": null,
   "metadata": {},
   "outputs": [],
   "source": [
    "l_mouse_delta, l_mouse_where_dropped = vp.get_locations_of_dropped_frames(\n",
    "    timestamps=l_mouse_timestamps,\n",
    "    threshold=50_000\n",
    ")\n",
    "\n",
    "r_mouse_delta, r_mouse_where_dropped = vp.get_locations_of_dropped_frames(\n",
    "    timestamps=r_mouse_timestamps,\n",
    "    threshold=50_000\n",
    ")"
   ]
  },
  {
   "cell_type": "markdown",
   "metadata": {},
   "source": [
    "### Fill in dropped frames by interpolating available data"
   ]
  },
  {
   "cell_type": "code",
   "execution_count": null,
   "metadata": {},
   "outputs": [],
   "source": [
    "#---------------------------- Green frames, left mouse ---------------------------#\n",
    "\n",
    "# Create a list of DroppedFrames objects\n",
    "list_of_dropped_frames_l_green = [\n",
    "    vp.DroppedFrames(*args) for args in vp.generate_frames(\n",
    "        l_mouse_green_frames,\n",
    "        l_mouse_delta,\n",
    "        l_mouse_where_dropped,\n",
    "        TRUE_FRAMERATE\n",
    "    )  \n",
    "]\n",
    "\n",
    "# Produce the interpolated frames\n",
    "list_of_interpolated_dropped_frames_l_green = [\n",
    "    DroppedFrames.interpolate() for DroppedFrames in list_of_dropped_frames_l_green\n",
    "]\n",
    "\n",
    "l_mouse_green_frames = vp.insert_interpolated_frames(\n",
    "    l_mouse_green_frames,\n",
    "    list_of_interpolated_dropped_frames_l_green\n",
    ")\n",
    "\n",
    "#---------------------------- Blue frames, left mouse ---------------------------#\n",
    "\n",
    "# Create a list of DroppedFrames objects\n",
    "list_of_dropped_frames_l_blue = [\n",
    "    vp.DroppedFrames(*args) for args in vp.generate_frames(\n",
    "        l_mouse_blue_frames,\n",
    "        l_mouse_delta,\n",
    "        l_mouse_where_dropped,\n",
    "        TRUE_FRAMERATE\n",
    "    )  \n",
    "]\n",
    "\n",
    "# Produce the interpolated frames\n",
    "list_of_interpolated_dropped_frames_l_blue = [\n",
    "    DroppedFrames.interpolate() for DroppedFrames in list_of_dropped_frames_l_blue\n",
    "]\n",
    "\n",
    "l_mouse_blue_frames = vp.insert_interpolated_frames(\n",
    "    l_mouse_blue_frames,\n",
    "    list_of_interpolated_dropped_frames_l_blue\n",
    ")\n",
    "\n",
    "#---------------------------- Red frames, left mouse ---------------------------#\n",
    "\n",
    "# Create a list of DroppedFrames objects\n",
    "list_of_dropped_frames_l_red = [\n",
    "    vp.DroppedFrames(*args) for args in vp.generate_frames(\n",
    "        l_mouse_red_frames,\n",
    "        l_mouse_delta,\n",
    "        l_mouse_where_dropped,\n",
    "        TRUE_FRAMERATE\n",
    "    )  \n",
    "]\n",
    "\n",
    "# Produce the interpolated frames\n",
    "list_of_interpolated_dropped_frames_l_red = [\n",
    "    DroppedFrames.interpolate() for DroppedFrames in list_of_dropped_frames_l_red\n",
    "]\n",
    "\n",
    "l_mouse_red_frames = vp.insert_interpolated_frames(\n",
    "    l_mouse_red_frames,\n",
    "    list_of_interpolated_dropped_frames_l_red\n",
    ")"
   ]
  },
  {
   "cell_type": "code",
   "execution_count": null,
   "metadata": {},
   "outputs": [],
   "source": [
    "#---------------------------- Green frames, right mouse ----------------------------#\n",
    "\n",
    "# Create a list of DroppedFrames objects\n",
    "list_of_dropped_frames_r_green = [\n",
    "    vp.DroppedFrames(*args) for args in vp.generate_frames(\n",
    "        r_mouse_green_frames,\n",
    "        r_mouse_delta,\n",
    "        r_mouse_where_dropped,\n",
    "        TRUE_FRAMERATE\n",
    "    )  \n",
    "]\n",
    "\n",
    "# Produce the interpolated frames\n",
    "list_of_interpolated_dropped_frames_r_green = [\n",
    "    DroppedFrames.interpolate() for DroppedFrames in list_of_dropped_frames_r_green\n",
    "]\n",
    "\n",
    "r_mouse_green_frames = vp.insert_interpolated_frames(\n",
    "    r_mouse_green_frames,\n",
    "    list_of_interpolated_dropped_frames_r_green\n",
    ")\n",
    "\n",
    "#---------------------------- Blue frames, right mouse ----------------------------#\n",
    "\n",
    "# Create a list of DroppedFrames objects\n",
    "list_of_dropped_frames_r_blue = [\n",
    "    vp.DroppedFrames(*args) for args in vp.generate_frames(\n",
    "        r_mouse_blue_frames,\n",
    "        r_mouse_delta,\n",
    "        r_mouse_where_dropped,\n",
    "        TRUE_FRAMERATE\n",
    "    )  \n",
    "]\n",
    "\n",
    "# Produce the interpolated frames\n",
    "list_of_interpolated_dropped_frames_r_blue = [\n",
    "    DroppedFrames.interpolate() for DroppedFrames in list_of_dropped_frames_r_blue\n",
    "]\n",
    "\n",
    "r_mouse_blue_frames = vp.insert_interpolated_frames(\n",
    "    r_mouse_blue_frames,\n",
    "    list_of_interpolated_dropped_frames_r_blue\n",
    ")\n",
    "\n",
    "#---------------------------- Red frames, right mouse ----------------------------#\n",
    "\n",
    "# Create a list of DroppedFrames objects\n",
    "list_of_dropped_frames_r_red = [\n",
    "    vp.DroppedFrames(*args) for args in vp.generate_frames(\n",
    "        r_mouse_red_frames,\n",
    "        r_mouse_delta,\n",
    "        r_mouse_where_dropped,\n",
    "        TRUE_FRAMERATE\n",
    "    )  \n",
    "]\n",
    "\n",
    "# Produce the interpolated frames\n",
    "list_of_interpolated_dropped_frames_r_red = [\n",
    "    DroppedFrames.interpolate() for DroppedFrames in list_of_dropped_frames_r_red\n",
    "]\n",
    "\n",
    "r_mouse_red_frames = vp.insert_interpolated_frames(\n",
    "    r_mouse_red_frames,\n",
    "    list_of_interpolated_dropped_frames_r_red\n",
    ")"
   ]
  },
  {
   "cell_type": "markdown",
   "metadata": {},
   "source": [
    "### Whisker Stimulation Averaging"
   ]
  },
  {
   "cell_type": "code",
   "execution_count": null,
   "metadata": {},
   "outputs": [],
   "source": [
    "# Not sure why we have this block is here\n",
    "l_start_frame = l_mouse_slice.start\n",
    "r_start_frame = r_mouse_slice.start\n",
    "\n",
    "with open(stim_frames_file, 'r') as file:\n",
    "    stim_frames = file.readlines()\n",
    "    for i, _ in enumerate(stim_frames):\n",
    "        stim_frames[i] = stim_frames[i].replace(\"\\n\", \"\")\n",
    "        stim_frames[i] = int(stim_frames[i])-l_start_frame\n",
    "    stim_frames = np.asarray(stim_frames)"
   ]
  },
  {
   "cell_type": "code",
   "execution_count": null,
   "metadata": {},
   "outputs": [],
   "source": [
    "for i, stim_frame in enumerate(stim_frames):\n",
    "    last_adjusted_stim = None\n",
    "    for interpolated_dropped_frame_r_green in list_of_interpolated_dropped_frames_r_green:\n",
    "        if stim_frame > interpolated_dropped_frame_r_green.location:\n",
    "            stim_frames[i] += interpolated_dropped_frame_r_green.num_dropped_frames\n",
    "            last_adjusted_stim = stim_frame\n",
    "                \n",
    "# remove the stim_frames that would happen when the lights are off\n",
    "stim_frames = stim_frames[np.where(stim_frames<l_mouse_green_frames.shape[0]-100)]"
   ]
  },
  {
   "cell_type": "markdown",
   "metadata": {},
   "source": [
    "###  Calculate Fractional Change in Flourescence and Luminisence for Green and Red Frames"
   ]
  },
  {
   "cell_type": "code",
   "execution_count": null,
   "metadata": {},
   "outputs": [],
   "source": [
    "def calculate_df_f0_2(baseline_frames, frames):\n",
    "    baseline = np.mean(baseline_frames, axis=0)\n",
    "    frames = np.divide(np.subtract(frames, baseline), baseline)\n",
    "    frames[np.where(np.isnan(frames))] = -1\n",
    "    \n",
    "    return frames\n",
    "\n",
    "all_stim_frames = np.zeros((stim_frames.shape[0], 200, 256, 256))\n",
    "all_stim_frames_red = np.zeros((stim_frames.shape[0], 200, 256, 256))\n",
    "for i, stim_frame in enumerate(stim_frames[:-1]):\n",
    "    baseline_frames = left_mouse_green_frames[stim_frame-100:stim_frame]\n",
    "    all_stim_frames[i] = calculate_df_f0_2(baseline_frames, left_mouse_green_frames[stim_frame-100:stim_frame+100])\n",
    "    \n",
    "    baseline_frames_red = left_mouse_red_frames[stim_frame-100:stim_frame]\n",
    "    all_stim_frames_red[i] = calculate_df_f0_2(baseline_frames_red, left_mouse_red_frames[stim_frame-100:stim_frame+100])\n"
   ]
  },
  {
   "cell_type": "markdown",
   "metadata": {},
   "source": [
    "### Find the means of the green and red stim frames and save them"
   ]
  },
  {
   "cell_type": "code",
   "execution_count": null,
   "metadata": {},
   "outputs": [],
   "source": [
    "mean_stim_frames = np.mean(all_stim_frames, axis=0)\n",
    "mean_stim_frames_red = np.mean(all_stim_frames_red, axis=0)\n",
    "mean_stim_frames.tofile(\"mean_stim_frames.raw\")\n",
    "mean_stim_frames_red.tofile(\"mean_stim_frames_red.raw\")\n",
    "np.save(\"fixed_stim_frames.npy\", stim_frames)"
   ]
  },
  {
   "cell_type": "markdown",
   "metadata": {},
   "source": [
    "### Plot one of the green mean stim frames and draw a ROI"
   ]
  },
  {
   "cell_type": "code",
   "execution_count": null,
   "metadata": {},
   "outputs": [],
   "source": [
    "%matplotlib qt\n",
    "plt.figure()\n",
    "plt.imshow(mean_stim_frames[126], vmin=0, vmax=0.05)\n",
    "stim_roi = RoiPoly(color='w')\n",
    "%matplotlib inline\n",
    "plt.imshow(behavior_frames[0], cmap='gray', vmin=0, vmax=255)\n",
    "roi.display_roi()"
   ]
  },
  {
   "cell_type": "markdown",
   "metadata": {},
   "source": [
    "### Get and plot the ROI mask"
   ]
  },
  {
   "cell_type": "code",
   "execution_count": null,
   "metadata": {},
   "outputs": [],
   "source": [
    "plt.figure()\n",
    "stim_mask = stim_roi.getMask(mean_stim_frames[125])\n",
    "plt.imshow(stim_mask)"
   ]
  },
  {
   "cell_type": "markdown",
   "metadata": {},
   "source": [
    "### Plot mean signal of lower whisker stimulation in ROI"
   ]
  },
  {
   "cell_type": "code",
   "execution_count": null,
   "metadata": {},
   "outputs": [],
   "source": [
    "plt.figure(figsize=(10, 6))\n",
    "mean_stim_signal = np.mean(mean_stim_frames[:, stim_mask], axis=1)\n",
    "all_stim_signals = np.mean(all_stim_frames[:, :, stim_mask], axis=2)\n",
    "std_stim_signal = np.std(all_stim_signals, axis=0)/np.sqrt(all_stim_frames.shape[0])\n",
    "print(np.shape(all_stim_frames))\n",
    "time_stim = np.arange(-100, 100, 1)\n",
    "plt.subplot(232)\n",
    "plt.title(\"Selected ROI\")\n",
    "plt.imshow(mean_stim_frames[125], vmin=0, vmax=0.05)\n",
    "plt.yticks([])\n",
    "plt.xticks([])\n",
    "stim_roi.displayROI()\n",
    "plt.subplot(212)\n",
    "plt.title(\"Mean signal of lower whisker stimulation (n=%s)\"%str(all_stim_signals.shape[0]))\n",
    "plt.plot(time_stim, mean_stim_signal, label=\"Mean signal\")\n",
    "plt.fill_between(time_stim, mean_stim_signal-std_stim_signal, mean_stim_signal+std_stim_signal, alpha=0.3, color='g', label=r\"$\\frac{std}{\\sqrt{n}}$\")\n",
    "plt.ylabel(r\"$\\Delta F/F_0$\")\n",
    "plt.xlabel(\"Time(frames @28.815Hz)\")\n",
    "plt.axvline(0, color='k', linewidth=0.4)\n",
    "plt.axvspan(0, 29, alpha=0.3, color='r', label=\"Duration of stim\")\n",
    "plt.legend()"
   ]
  },
  {
   "cell_type": "markdown",
   "metadata": {},
   "source": [
    "### Plot lower whisker peak, upper whisker peak and the sum of the two"
   ]
  },
  {
   "cell_type": "code",
   "execution_count": null,
   "metadata": {},
   "outputs": [],
   "source": [
    "#lower_whisker_peak = np.copy(mean_stim_frames[124])\n",
    "#upper_whisker_peak = np.copy(mean_stim_frames[124])\n",
    "lower_whisker_peak[np.where(np.isnan(lower_whisker_peak))] = -10\n",
    "upper_whisker_peak[np.where(np.isnan(upper_whisker_peak))]= -10\n",
    "plt.figure()\n",
    "plt.subplot(131)\n",
    "plt.title(\"Lower stim\")\n",
    "plt.imshow((lower_whisker_peak), vmin=0, vmax=0.05)\n",
    "plt.yticks([])\n",
    "plt.xticks([])\n",
    "plt.subplot(132)\n",
    "plt.title(\"Upper stim\")\n",
    "plt.imshow((upper_whisker_peak), vmin=0, vmax=0.05)\n",
    "plt.yticks([])\n",
    "plt.xticks([])\n",
    "plt.subplot(133)\n",
    "plt.title(\"Added stims\")\n",
    "plt.imshow((lower_whisker_peak+upper_whisker_peak), vmin=0, vmax=0.05, cmap='viridis')\n",
    "plt.yticks([])\n",
    "plt.xticks([])"
   ]
  }
 ],
 "metadata": {
  "kernelspec": {
   "display_name": "Python 3",
   "language": "python",
   "name": "python3"
  },
  "language_info": {
   "codemirror_mode": {
    "name": "ipython",
    "version": 3
   },
   "file_extension": ".py",
   "mimetype": "text/x-python",
   "name": "python",
   "nbconvert_exporter": "python",
   "pygments_lexer": "ipython3",
   "version": "3.6.8"
  }
 },
 "nbformat": 4,
 "nbformat_minor": 2
}
