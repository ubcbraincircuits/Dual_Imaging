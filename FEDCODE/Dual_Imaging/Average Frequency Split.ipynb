{
 "cells": [
  {
   "cell_type": "code",
   "execution_count": 1,
   "metadata": {},
   "outputs": [],
   "source": [
    "import numpy\n",
    "import pandas\n",
    "import seaborn\n",
    "import matplotlib.pyplot as plt\n",
    "import scipy\n",
    "import librain as lb\n",
    "\n",
    "import warnings\n",
    "warnings.filterwarnings('ignore')"
   ]
  },
  {
   "cell_type": "markdown",
   "metadata": {},
   "source": [
    "## Constants"
   ]
  },
  {
   "cell_type": "code",
   "execution_count": 2,
   "metadata": {},
   "outputs": [],
   "source": [
    "ws='3800' # window size of data analsyis\n",
    "IMAGING_FRAMERATE = 1/(34704.0/1e6)"
   ]
  },
  {
   "cell_type": "markdown",
   "metadata": {},
   "source": [
    "## File paths"
   ]
  },
  {
   "cell_type": "code",
   "execution_count": 3,
   "metadata": {},
   "outputs": [],
   "source": [
    "blacklist = (\n",
    "    '20180312/Experiment_11',\n",
    "    '20180312/Experiment_12',\n",
    "    '20180312/Experiment_13',\n",
    "    '20180315',\n",
    "    '20180419/Experiment_1',\n",
    "    '20180419/Experiment_2',\n",
    "    '20180420',\n",
    "    '20180424'\n",
    ")"
   ]
  },
  {
   "cell_type": "code",
   "execution_count": null,
   "metadata": {},
   "outputs": [],
   "source": [
    "path = \"\\\\Users\\\\User\\\\Documents\\\\FEDCODE - Nick\\\\\"\n",
    "\n",
    "direc = lb.Data(path)\n",
    "\n",
    "window_size = 3800\n",
    "\n",
    "# help(direc.experiment)\n",
    "\n",
    "# Variable names are in the following format: EXP_<experiment number>_<day>\n",
    "\n",
    "file_dict = {}\n",
    "\n",
    "date = \"march 12 2018\"\n",
    "\n",
    "for i in range(1,11):\n",
    "    EXP = direc.experiment(date, i)\n",
    "    file_dict[f\"file_{i}_12\"] = direc.file(\n",
    "    EXP, \"freq split ws={}\".format(window_size)\n",
    ") \n",
    "\n",
    "print(file_dict)\n",
    "    \n",
    "EXP_1_12 = direc.experiment(\"march 12 2018\", 1)\n",
    "\n",
    "EXP_2_12 = direc.experiment(\"march 12 2018\", 2)\n",
    "\n",
    "EXP_3_12 = direc.experiment(\"march 12 2018\", 3)\n",
    "\n",
    "EXP_4_12 = direc.experiment(\"march 12 2018\", 4)\n",
    "\n",
    "EXP_5_12 = direc.experiment(\"march 12 2018\", 5)\n",
    "\n",
    "EXP_6_12 = direc.experiment(\"march 12 2018\", 6)\n",
    "\n",
    "EXP_7_12 = direc.experiment(\"march 12 2018\", 7)\n",
    "\n",
    "EXP_8_12 = direc.experiment(\"march 12 2018\", 8)\n",
    "\n",
    "EXP_9_12 = direc.experiment(\"march 12 2018\", 9)\n",
    "\n",
    "EXP_10_12 = direc.experiment(\"march 12 2018\", 10)\n",
    "\n",
    "EXP_1_16 = direc.experiment(\"march 16 2018\", 1)\n",
    "\n",
    "EXP_2_16 = direc.experiment(\"march 16 2018\", 2)\n",
    "\n",
    "# help(direc.file)\n",
    "\n",
    "# Variable names are in the following format: file_<experiment number>_<day>\n",
    "file_1_12 = direc.file(\n",
    "    EXP_1_12, \"freq split ws={}\".format(window_size)\n",
    ") \n",
    "\n",
    "file_2_12 = direc.file(\n",
    "    EXP_2_12, \"freq split ws={}\".format(window_size)\n",
    ") \n",
    "\n",
    "file_3_12 = direc.file(\n",
    "    EXP_3_12, \"freq split ws={}\".format(window_size)\n",
    ") \n",
    "\n",
    "file_4_12 = direc.file(\n",
    "    EXP_4_12, \"freq split ws={}\".format(window_size)\n",
    ") \n",
    "\n",
    "file_5_12 = direc.file(\n",
    "    EXP_5_12, \"freq split ws={}\".format(window_size)\n",
    ") \n",
    "\n",
    "file_6_12 = direc.file(\n",
    "    EXP_6_12, \"freq split ws={}\".format(window_size)\n",
    ") \n",
    "\n",
    "file_7_12 = direc.file(\n",
    "    EXP_7_12, \"freq split ws={}\".format(window_size)\n",
    ") \n",
    "\n",
    "file_8_12 = direc.file(\n",
    "    EXP_8_12, \"freq split ws={}\".format(window_size)\n",
    ") \n",
    "\n",
    "file_9_12 = direc.file(\n",
    "    EXP_9_12, \"freq split ws={}\".format(window_size)\n",
    ") \n",
    "\n",
    "file_10_12 = direc.file(\n",
    "    EXP_10_12, \"freq split ws={}\".format(window_size)\n",
    ") \n",
    "\n",
    "file_1_16 = direc.file(\n",
    "    EXP_1_16, \"freq split ws={}\".format(window_size)\n",
    ") \n",
    "\n",
    "file_2_12 = direc.file(\n",
    "    EXP_2_16, \"freq split ws={}\".format(window_size)\n",
    ") "
   ]
  },
  {
   "cell_type": "code",
   "execution_count": null,
   "metadata": {},
   "outputs": [],
   "source": [
    "together_files = []\n",
    "\n",
    "together_files_range = [2, 10, 8, 4, 6]\n",
    "\n",
    "for i in together_files_range:\n",
    "    together_files.append(file_dict.get(\"file_{}_12\".format(i)))\n",
    "    \n",
    "together_files.append(file_1_16)\n",
    "    \n",
    "print(together_files)"
   ]
  },
  {
   "cell_type": "code",
   "execution_count": null,
   "metadata": {},
   "outputs": [],
   "source": [
    "full_separation_files = []\n",
    "\n",
    "full_separation_files_range = [7, 9, 5, 3, 1]\n",
    "\n",
    "for i in full_separation_files_range:\n",
    "    full_separation_files.append(file_dict.get(\"file_{}_12\".format(i)))\n",
    "    \n",
    "full_separation_files.append(file_2_16)\n",
    "\n",
    "print(full_separation_files)"
   ]
  },
  {
   "cell_type": "code",
   "execution_count": 16,
   "metadata": {},
   "outputs": [],
   "source": [
    "together_files = [\n",
    "    \"D:/2_mice/20180312/Experiment_2/frequency_split_correlation_filtered_ws=3800.py.npy\",\n",
    "    \"D:/2_mice/20180312/Experiment_10/frequency_split_correlation_filtered_ws=3800.py.npy\",\n",
    "    \"D:/2_mice/20180312/Experiment_8/frequency_split_correlation_filtered_ws=3800.py.npy\",\n",
    "    \"D:/2_mice/20180312/Experiment_4/frequency_split_correlation_filtered_ws=3800.py.npy\",\n",
    "    \"D:/2_mice/20180312/Experiment_6/frequency_split_correlation_filtered_ws=3800.py.npy\",\n",
    "    \"D:/2_mice/20180316/Experiment_1/frequency_split_correlation_filtered_ws=3800.py.npy\",\n",
    "]\n",
    "\n",
    "full_separation_files = [\n",
    "    \"D:/2_mice/20180312/Experiment_7/frequency_split_correlation_filtered_ws=3800.py.npy\",\n",
    "    \"D:/2_mice/20180312/Experiment_9/frequency_split_correlation_filtered_ws=3800.py.npy\",\n",
    "    \"D:/2_mice/20180312/Experiment_5/frequency_split_correlation_filtered_ws=3800.py.npy\",\n",
    "    \"D:/2_mice/20180312/Experiment_3/frequency_split_correlation_filtered_ws=3800.py.npy\",\n",
    "    \"D:/2_mice/20180312/Experiment_1/frequency_split_correlation_filtered_ws=3800.py.npy\",\n",
    "    \"D:/2_mice/20180316/Experiment_2/frequency_split_correlation_filtered_ws=3800.py.npy\",\n",
    "]"
   ]
  },
  {
   "cell_type": "markdown",
   "metadata": {},
   "source": [
    "### Average the Separate Experiments"
   ]
  },
  {
   "cell_type": "code",
   "execution_count": 19,
   "metadata": {},
   "outputs": [],
   "source": [
    "separate_exps_matrices = []\n",
    "for file in full_separation_files:\n",
    "    separate_exps_matrices.append(numpy.load(file))\n",
    "    \n",
    "min_shape = 10_000_000\n",
    "for matrix in separate_exps_matrices:\n",
    "    if matrix.shape[1] < min_shape:\n",
    "        min_shape = matrix.shape[1]\n",
    "arr_separate_exps = numpy.zeros(\n",
    "    (\n",
    "        len(separate_exps_matrices),\n",
    "        separate_exps_matrices[0].shape[0],\n",
    "        min_shape,\n",
    "    )\n",
    ")\n",
    "\n",
    "arr_separate_points = numpy.zeros(\n",
    "    (len(separate_exps_matrices))\n",
    ")\n",
    "for i in range(len(separate_exps_matrices)):\n",
    "    arr_separate_exps[i] = separate_exps_matrices[i][\n",
    "        :, :min_shape\n",
    "    ]\n",
    "    midpoint = (\n",
    "        separate_exps_matrices[0].shape[1] // 2\n",
    "        - int(ws) // 2\n",
    "    )\n",
    "    arr_separate_points[i] = numpy.mean(\n",
    "        separate_exps_matrices[i][\n",
    "            0, midpoint - 10 : midpoint + 10\n",
    "        ]\n",
    "    )"
   ]
  },
  {
   "cell_type": "markdown",
   "metadata": {},
   "source": [
    "### Average the together experiments"
   ]
  },
  {
   "cell_type": "code",
   "execution_count": 21,
   "metadata": {},
   "outputs": [],
   "source": [
    "together_exps_matrices = []\n",
    "for file in together_files:\n",
    "    together_exps_matrices.append(numpy.load(file))\n",
    "    \n",
    "min_shape = 10_000_000\n",
    "for matrix in together_exps_matrices:\n",
    "    if matrix.shape[1] < min_shape:\n",
    "        min_shape = matrix.shape[1]\n",
    "arr_together_exps = numpy.zeros(\n",
    "    (\n",
    "        len(together_exps_matrices),\n",
    "        together_exps_matrices[0].shape[0],\n",
    "        min_shape,\n",
    "    )\n",
    ")\n",
    "\n",
    "arr_together_points = numpy.zeros(\n",
    "    (len(together_exps_matrices))\n",
    ")\n",
    "for i in range(len(together_exps_matrices)):\n",
    "    arr_together_exps[i] = together_exps_matrices[i][\n",
    "        :, :min_shape\n",
    "    ]\n",
    "    midpoint = (\n",
    "        separate_exps_matrices[0].shape[1] // 2\n",
    "        - int(ws) // 2\n",
    "    )\n",
    "    arr_together_points[i] = numpy.mean(\n",
    "        together_exps_matrices[i][\n",
    "            0, midpoint - 10 : midpoint + 10\n",
    "        ]\n",
    "    )\n"
   ]
  },
  {
   "cell_type": "markdown",
   "metadata": {},
   "source": [
    "### Average the two types of experiments"
   ]
  },
  {
   "cell_type": "code",
   "execution_count": 25,
   "metadata": {},
   "outputs": [],
   "source": [
    "mean_separate_exp = numpy.mean(arr_separate_exps, axis=0)\n",
    "mean_together_exp = numpy.mean(arr_together_exps, axis=0)\n",
    "\n",
    "max_x_value = mean_separate_exp.shape[1]/IMAGING_FRAMERATE"
   ]
  },
  {
   "cell_type": "markdown",
   "metadata": {},
   "source": [
    "### Generate Labels"
   ]
  },
  {
   "cell_type": "code",
   "execution_count": 26,
   "metadata": {},
   "outputs": [],
   "source": [
    "frequency_bands = [\n",
    "    str(i)\n",
    "    for i in (\n",
    "        0.01,\n",
    "        0.1,\n",
    "        0.5,\n",
    "        1.0,\n",
    "        2.0,\n",
    "        3.0,\n",
    "        4.0,\n",
    "        6.0,\n",
    "        8.0,\n",
    "        10.0,\n",
    "        12.0,\n",
    "    )\n",
    "]\n",
    "\n",
    "frequency_labels = []\n",
    "\n",
    "for low, high in zip(frequency_bands, frequency_bands[1:]):\n",
    "    frequency_labels.append(low+\"-\"+high)\n",
    "y_ticks = (\n",
    "    numpy.arange(numpy.shape(frequency_bands)[0]) - 0.5\n",
    ")\n",
    "y_ticks = numpy.flipud(y_ticks)"
   ]
  },
  {
   "cell_type": "markdown",
   "metadata": {},
   "source": [
    "### Plot the correlation at different frequency bands"
   ]
  },
  {
   "cell_type": "code",
   "execution_count": 34,
   "metadata": {},
   "outputs": [
    {
     "data": {
      "text/plain": [
       "<matplotlib.colorbar.Colorbar at 0x6d57a8128>"
      ]
     },
     "execution_count": 34,
     "metadata": {},
     "output_type": "execute_result"
    },
    {
     "data": {
      "image/png": "[encoded data removed]",
      "text/plain": [
       "<Figure size 864x432 with 3 Axes>"
      ]
     },
     "metadata": {
      "needs_background": "light"
     },
     "output_type": "display_data"
    }
   ],
   "source": [
    "fig = plt.figure(figsize=(12, 6))\n",
    "plt.suptitle(\n",
    "    \"Average correlation at different frequency bands. (n=%s per condition)\"\n",
    "    % str(arr_separate_exps.shape[0]),\n",
    "    size=18,\n",
    ")\n",
    "plt.subplot(121)\n",
    "plt.title(\"Separated Mice Experiments\", size=15)\n",
    "plt.yticks(y_ticks, frequency_labels, size=15)\n",
    "plt.ylabel('Frequency bands (Hz)')\n",
    "plt.imshow(\n",
    "    mean_separate_exp,\n",
    "    cmap=\"viridis\",\n",
    "    extent=[0, max_x_value, 0, 10],\n",
    "    aspect=\"auto\",\n",
    "    vmin=0,\n",
    "    vmax=0.5,\n",
    ")\n",
    "plt.xlabel(\n",
    "    \"Time(s), Window size=%ss\"\n",
    "    % (int(ws) // IMAGING_FRAMERATE),\n",
    "    size=15,\n",
    ")\n",
    "\n",
    "plt.subplot(122)\n",
    "plt.title(\"Together Mice Experiments\", size=15)\n",
    "plt.yticks([])\n",
    "ax = plt.imshow(\n",
    "    mean_together_exp,\n",
    "    cmap=\"viridis\",\n",
    "    extent=[0, max_x_value, 0, 10],\n",
    "    aspect=\"auto\",\n",
    "    vmin=0,\n",
    "    vmax=0.5,\n",
    ")\n",
    "plt.xlabel(\n",
    "    \"Time(s), Window size=%ss\"\n",
    "    % (int(ws) // IMAGING_FRAMERATE),\n",
    "    size=15,\n",
    ")\n",
    "\n",
    "cbar_ax = fig.add_axes([0.92, 0.15, 0.02, 0.7])\n",
    "fig.colorbar(ax, cax=cbar_ax)"
   ]
  },
  {
   "cell_type": "markdown",
   "metadata": {},
   "source": [
    "### Generate Boxplot "
   ]
  },
  {
   "cell_type": "code",
   "execution_count": 35,
   "metadata": {},
   "outputs": [
    {
     "data": {
      "text/plain": [
       "0.027769746350448023"
      ]
     },
     "execution_count": 35,
     "metadata": {},
     "output_type": "execute_result"
    }
   ],
   "source": [
    "z_score, p_value = scipy.stats.ttest_ind(arr_separate_points, arr_together_points)\n",
    "p_value"
   ]
  },
  {
   "cell_type": "code",
   "execution_count": 37,
   "metadata": {},
   "outputs": [],
   "source": [
    "data_frame = dict(\n",
    "    Separated = arr_separate_points,\n",
    "    Together = arr_together_points\n",
    ")\n",
    "df = pandas.DataFrame(data_frame)"
   ]
  },
  {
   "cell_type": "code",
   "execution_count": 44,
   "metadata": {},
   "outputs": [
    {
     "data": {
      "text/plain": [
       "Text(0.5, 0.6643506499476713, '* $p=0.028$')"
      ]
     },
     "execution_count": 44,
     "metadata": {},
     "output_type": "execute_result"
    },
    {
     "data": {
      "image/png": "[encoded data removed]",
      "text/plain": [
       "<Figure size 504x432 with 1 Axes>"
      ]
     },
     "metadata": {},
     "output_type": "display_data"
    }
   ],
   "source": [
    "plt.figure(figsize=(7, 6))\n",
    "plt.title(\n",
    "    \"Average correlation vs experiment type (n={})\"\n",
    "    .format(arr_separate_exps.shape[0]),\n",
    "    size=18,\n",
    ")\n",
    "plt.ylabel(\"Average correlation\", size=15)\n",
    "plt.xlabel(\"Experiment Type at 0.01-0.1Hz\", size=15)\n",
    "seaborn.set(style=\"ticks\")\n",
    "seaborn.boxplot(data=df, palette=\"PRGn\")\n",
    "\n",
    "x1, x2 = (\n",
    "    0,\n",
    "    1,\n",
    ")  # columns 'Sat' and 'Sun' (first column: 0, see plt.xticks())\n",
    "y, h, col = df.max().max() + 0.01, 0.1, \"k\"\n",
    "\n",
    "plt.plot(\n",
    "    [x1, x1, x2, x2], [y, y + h, y + h, y], lw=1.5, c=col\n",
    ")\n",
    "plt.ylim([-0.3, 1])\n",
    "plt.text(\n",
    "    (x1 + x2) * 0.5,\n",
    "    y + h,\n",
    "    r\"* $p=%s$\" % str(round(p_value, 3)) % p_value,\n",
    "    ha=\"center\",\n",
    "    va=\"bottom\",\n",
    "    color=col,\n",
    "    size=15,\n",
    ")"
   ]
  },
  {
   "cell_type": "code",
   "execution_count": null,
   "metadata": {},
   "outputs": [],
   "source": []
  }
 ],
 "metadata": {
  "kernelspec": {
   "display_name": "Python 3",
   "language": "python",
   "name": "python3"
  },
  "language_info": {
   "codemirror_mode": {
    "name": "ipython",
    "version": 3
   },
   "file_extension": ".py",
   "mimetype": "text/x-python",
   "name": "python",
   "nbconvert_exporter": "python",
   "pygments_lexer": "ipython3",
   "version": "3.7.0"
  }
 },
 "nbformat": 4,
 "nbformat_minor": 2
}
