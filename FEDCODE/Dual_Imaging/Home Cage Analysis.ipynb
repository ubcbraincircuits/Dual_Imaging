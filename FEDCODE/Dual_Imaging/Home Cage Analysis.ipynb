{
 "cells": [
  {
   "cell_type": "code",
   "execution_count": 2,
   "metadata": {},
   "outputs": [],
   "source": [
    "import imreg_dft as ird\n",
    "import numpy\n",
    "import video_processing as vp\n",
    "import progressbar"
   ]
  },
  {
   "cell_type": "code",
   "execution_count": null,
   "metadata": {},
   "outputs": [],
   "source": [
    "WIDTH, HEIGT = 256, 256\n",
    "TRUE_FRAMERATE = 30"
   ]
  },
  {
   "cell_type": "code",
   "execution_count": null,
   "metadata": {},
   "outputs": [],
   "source": [
    "class Trial:\n",
    "    def __init__(self, filename):\n",
    "        self.filename = filename\n",
    "        self.correct_trials = []\n",
    "        self.baselines = []\n",
    "        \n",
    "    def __str__(self, ):\n",
    "        return(self.filename+str(self.correct_trials)+str(self.baselines))"
   ]
  },
  {
   "cell_type": "markdown",
   "metadata": {},
   "source": [
    "### Determine which trials to use"
   ]
  },
  {
   "cell_type": "code",
   "execution_count": null,
   "metadata": {},
   "outputs": [],
   "source": [
    "current_trial = None\n",
    "good_trials = []\n",
    "\n",
    "with open(mouse_text_file, 'r') as file:\n",
    "    data = file.readlines()\n",
    "    for line in data:\n",
    "        line = line.replace('\\n', '')\n",
    "        line = line.split('\\t')\n",
    "        if line[0] == 'Movie':\n",
    "            line[2] = line[2].replace(':', '/')\n",
    "            if current_trial is not None:\n",
    "                if len(current_trial.correct_trials) > 0:\n",
    "                    good_trials.append(current_trial) \n",
    "            current_trial = Trial(hdd_directory+line[2])\n",
    "        elif line[0] == 'stim':\n",
    "            if \"GO=2\" in line[2]:\n",
    "                current_trial.correct_trials.append(float(line[1]))\n",
    "                current_trial.baselines.append(float(line[2][-4:]))\n",
    "                \n",
    "print(f\"Number of good trials: {len(good_trials)}\")            "
   ]
  },
  {
   "cell_type": "markdown",
   "metadata": {},
   "source": [
    "### Translate the frames"
   ]
  },
  {
   "cell_type": "code",
   "execution_count": null,
   "metadata": {},
   "outputs": [],
   "source": [
    "trial_frames = []\n",
    "bottom_end = 100\n",
    "top_end = 60\n",
    "bool_have_template = False\n",
    "#Threshold for which to tell if the mean changed due to lighting issues\n",
    "threshold = 30\n",
    "for trial in progressbar.ProgressBar(good_trials, max_value=len(good_trials)):\n",
    "    frames = vp.extract_RAW_frames(trial.filename, WIDTH, HEIGHT,channel='green')\n",
    "    for i, stim_end in enumerate(trial.correct_trials):\n",
    "        stim_end = int(stim_end*TRUE_FRAMERATE)\n",
    "        frames_of_trial = frames[stim_end-bottom_end:stim_end+top_end]\n",
    "        mean_trial = numpy.mean(frames_of_trial, axis=(1,2))\n",
    "        if (numpy.max(mean_trial)-numpy.min(mean_trial)) <= threshold:\n",
    "            #do alignment of these images.\n",
    "            if not bool_have_template:\n",
    "                template_image = frames_of_trial[bottom_end]\n",
    "                bool_have_template = True\n",
    "            else:\n",
    "                result = ird.translation(template_image, frames_of_trial[bottom_end])\n",
    "                tvec = result['tvec']\n",
    "                for i in range(len(frames_of_trial)):\n",
    "                    frames_of_trial[i] = ird.transform_img(frames_of_trial[i], tvec=tvec)\n",
    "            # Calculate baseline the -6 is to remove the 200ms of the stimulus\n",
    "            baseline = numpy.mean(frames_of_trial[:bottom_end-6], axis=0)\n",
    "            frames_of_trial = numpy.divide(\n",
    "                numpy.subtract(frames_of_trial, baseline), \n",
    "                baseline\n",
    "            )\n",
    "            trial_frames.append(frames_of_trial)\n",
    "\n",
    "trial_frames = numpy.asarray(trial_frames, dtype=numpy.float32) "
   ]
  },
  {
   "cell_type": "markdown",
   "metadata": {},
   "source": [
    "### Save the trial frames and the means of the frames"
   ]
  },
  {
   "cell_type": "code",
   "execution_count": null,
   "metadata": {},
   "outputs": [],
   "source": [
    "mean_of_all_trials = numpy.mean(trial_frames, axis=0)\n",
    "mean_of_all_trials.tofile(hdd_directory+mouse+\"_average.raw\")\n",
    "trial_frames.tofile(hdd_directory+mouse+\"_all_trials.raw\")"
   ]
  }
 ],
 "metadata": {
  "kernelspec": {
   "display_name": "Python 3",
   "language": "python",
   "name": "python3"
  },
  "language_info": {
   "codemirror_mode": {
    "name": "ipython",
    "version": 3
   },
   "file_extension": ".py",
   "mimetype": "text/x-python",
   "name": "python",
   "nbconvert_exporter": "python",
   "pygments_lexer": "ipython3",
   "version": "3.6.8"
  }
 },
 "nbformat": 4,
 "nbformat_minor": 2
}
