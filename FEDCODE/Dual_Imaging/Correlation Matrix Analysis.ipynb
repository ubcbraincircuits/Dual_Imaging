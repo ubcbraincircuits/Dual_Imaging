{
 "cells": [
  {
   "cell_type": "code",
   "execution_count": 50,
   "metadata": {},
   "outputs": [],
   "source": [
    "import video_processing as vp\n",
    "import matplotlib.pyplot as plt\n",
    "import seed\n",
    "import numpy"
   ]
  },
  {
   "cell_type": "markdown",
   "metadata": {},
   "source": [
    "## Static global variables and file names"
   ]
  },
  {
   "cell_type": "code",
   "execution_count": null,
   "metadata": {},
   "outputs": [],
   "source": [
    "HEIGHT = 256\n",
    "WIDTH = 256\n",
    "TRUE_FRAMERATE = 28.815\n",
    "\n",
    "left_blue_frame_file\n",
    "right_blue_frame_file\n",
    "left_green_frame_file\n",
    "right_green_frame_file\n",
    "\n",
    "left_mouse_processed_file\n",
    "right_mouse_processed_file"
   ]
  },
  {
   "cell_type": "markdown",
   "metadata": {},
   "source": [
    "## Load single blue and green frames"
   ]
  },
  {
   "cell_type": "code",
   "execution_count": null,
   "metadata": {},
   "outputs": [],
   "source": [
    "l_mouse_blue = numpy.load(left_blue_frame_file)    \n",
    "r_mouse_blue = numpy.load(right_blue_frame_file)   \n",
    "\n",
    "l_mouse_green = numpy.load(left_green_frame_file)  \n",
    "r_mouse_green = numpy.load(right_green_frame_file) "
   ]
  },
  {
   "cell_type": "markdown",
   "metadata": {},
   "source": [
    "## Load the array of frames"
   ]
  },
  {
   "cell_type": "code",
   "execution_count": null,
   "metadata": {},
   "outputs": [],
   "source": [
    "l_mouse_frames = vp.extract_RAW_frames(\n",
    "    filename=left_mouse_processed_file,\n",
    "    width=WIDTH, \n",
    "    height=HEIGHT,\n",
    "    num_channels=1\n",
    ")\n",
    "# mask negative infinities with -1\n",
    "left_mouse_frames[np.where(lmouse_frames == -np.inf)] = -1\n",
    "\n",
    "r_mouse_frames = vp.extract_RAW_frames(\n",
    "    filename=right_mouse_processed_file,\n",
    "    width=WIDTH, \n",
    "    height=HEIGHT,\n",
    "    num_channels=1\n",
    ")\n",
    "# mask negative infinities with -1\n",
    "r_mouse_frames[np.where(r_mouse_frames == -np.inf)] = -1"
   ]
  },
  {
   "cell_type": "markdown",
   "metadata": {},
   "source": [
    "## Bregma Selection"
   ]
  },
  {
   "cell_type": "code",
   "execution_count": null,
   "metadata": {},
   "outputs": [],
   "source": [
    "l_bregma = seed.Bregma(l_mouse_blue)"
   ]
  },
  {
   "cell_type": "code",
   "execution_count": null,
   "metadata": {},
   "outputs": [],
   "source": [
    "r_bregma = seed.Bregma(r_mouse_blue)"
   ]
  },
  {
   "cell_type": "markdown",
   "metadata": {},
   "source": [
    "### Define parameters"
   ]
  },
  {
   "cell_type": "code",
   "execution_count": null,
   "metadata": {},
   "outputs": [],
   "source": [
    "start_interaction_frame = 2872\n",
    "end_interaction_frame = 6930\n",
    "\n",
    "# pixels per mm\n",
    "l_ppmm = 30\n",
    "r_ppmm = 30"
   ]
  },
  {
   "cell_type": "markdown",
   "metadata": {},
   "source": [
    "### Produce adjusted (scaled) seed pixel objects"
   ]
  },
  {
   "cell_type": "code",
   "execution_count": null,
   "metadata": {},
   "outputs": [],
   "source": [
    "seeds = [(\"M1\", 1.03 + 1, 1.365),(\"FL\", .16, 2.47), (\"HL\", -.7, 1.85), \n",
    "         (\"aBC\", -1.36 + .575, 3.35),(\"pBC\", -1.9, 3.35), (\"AC\", 0 + 1, 0.6), \n",
    "         (\"RS\", -2.8858 + 1, 0.62043),(\"V1\", -4.2678 + .8, 2.5168), (\"mPTA\", -2.4962, 2.2932), \n",
    "         (\"lPTA\", -2.4962 - 0.3, 3.35 - 0.2),(\"Un\", -1.5, 2.6)]\n",
    "\n",
    "l_scaled_seeds = seed.generate_scaled_seeds(\n",
    "    seeds=seeds,\n",
    "    bregma=l_bregma,\n",
    "    ppmm=l_ppmm,\n",
    "    direction ='u'\n",
    ")\n",
    "\n",
    "r_scaled_seeds = seed.generate_scaled_seeds(\n",
    "    seeds=seeds,\n",
    "    bregma=r_bregma,\n",
    "    ppmm=r_ppmm,\n",
    "    direction ='u'\n",
    ")"
   ]
  },
  {
   "cell_type": "markdown",
   "metadata": {},
   "source": [
    "## Generate Correlation Matrix"
   ]
  },
  {
   "cell_type": "code",
   "execution_count": null,
   "metadata": {},
   "outputs": [],
   "source": [
    "seed.generate_correlation_matrix(\n",
    "    l_mouse_frames=l_mouse_frames[start_interaction_frame:end_interaction_frame], \n",
    "    r_mouse_frames=r_mouse_frames[start_interaction_frame:end_interaction_frame], # pass truncated frames\n",
    "    l_seeds=l_scaled_seeds,\n",
    "    r_seeds=r_scaled_seeds,\n",
    "    title=\"Correlation matrix\",\n",
    "    filename=\"correlation_matrix\",\n",
    "    radius=5,\n",
    "    interpolation=\"nearest\",\n",
    "    cmap=\"viridis\",\n",
    "    figsize=(10, 11)\n",
    ")"
   ]
  }
 ],
 "metadata": {
  "kernelspec": {
   "display_name": "Python 3",
   "language": "python",
   "name": "python3"
  },
  "language_info": {
   "codemirror_mode": {
    "name": "ipython",
    "version": 3
   },
   "file_extension": ".py",
   "mimetype": "text/x-python",
   "name": "python",
   "nbconvert_exporter": "python",
   "pygments_lexer": "ipython3",
   "version": "3.6.8"
  }
 },
 "nbformat": 4,
 "nbformat_minor": 2
}
