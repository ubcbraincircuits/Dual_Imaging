{
 "cells": [
  {
   "cell_type": "code",
   "execution_count": 50,
   "metadata": {},
   "outputs": [],
   "source": [
    "import video_processing as vp\n",
    "import matplotlib.pyplot as plt\n",
    "import seed\n",
    "import numpy"
   ]
  },
  {
   "cell_type": "markdown",
   "metadata": {},
   "source": [
    "## Static global variabales and file names"
   ]
  },
  {
   "cell_type": "code",
   "execution_count": null,
   "metadata": {},
   "outputs": [],
   "source": [
    "HEIGHT = 256\n",
    "WIDTH = 256\n",
    "TRUE_FRAMERATE = 28.815\n",
    "\n",
    "left_blue_frame_file\n",
    "right_blue_frame_file\n",
    "left_green_frame_file\n",
    "right_green_frame_file\n",
    "\n",
    "left_mouse_processed_file\n",
    "right_mouse_processed_file"
   ]
  },
  {
   "cell_type": "markdown",
   "metadata": {},
   "source": [
    "## Correlation matrix function definition"
   ]
  },
  {
   "cell_type": "code",
   "execution_count": 52,
   "metadata": {},
   "outputs": [],
   "source": [
    "def generate_matrix_two_mice(\n",
    "    left_mouse_green_frames, \n",
    "    right_mouse_green_frames,\n",
    "    left_seeds,\n",
    "    right_seeds, \n",
    "    title,\n",
    "    filename,\n",
    "    radius=5\n",
    "):\n",
    "    all_seeds=numpy.zeros((numpy.size(left_seeds)+numpy.size(right_seeds),numpy.shape(left_mouse_green_frames)[0]))\n",
    "    the_labels = []\n",
    "    the_positions = []\n",
    "    cnt=0\n",
    "    # FIX ME REVERSED ROW AND COL\n",
    "    left_first_frame[left_seeds[0].bregma.row, left_seeds[0].bregma.col] = 255\n",
    "    for seed in left_seeds:\n",
    "        the_labels.append(seed.name+\"-L\")\n",
    "        top = seed.row-radius\n",
    "        bottom = seed.row+radius\n",
    "        left = seed.col-radius\n",
    "        right = seed.col+radius\n",
    "        \n",
    "        if top < 0:\n",
    "            top = 0\n",
    "        if bottom > 256:\n",
    "            bottom = 256\n",
    "        if left < 0:\n",
    "            left = 0\n",
    "        if right > 256:\n",
    "            right = 256\n",
    "        seed.signal = numpy.mean(numpy.mean(left_mouse_green_frames[:, top:bottom, left:right], axis=1), axis=1)\n",
    "        all_seeds[cnt,:]=seed.signal\n",
    "        cnt+=1\n",
    "        left_first_frame[top:bottom, left:right] = 255\n",
    "        the_positions.append((seed.row, seed.col))\n",
    "        \n",
    "    #left_mouse_green_frames[0, :, :].tofile(\"left.raw\")\n",
    "    # FIX ME REVERESED ROW AND COL\n",
    "    right_first_frame[right_seeds[0].bregma.row, right_seeds[0].bregma.col] = 255      \n",
    "    for seed in right_seeds:\n",
    "        \n",
    "        the_labels.append(seed.name+\"-R\")\n",
    "        top = seed.row-radius\n",
    "        bottom = seed.row+radius\n",
    "        left = seed.col-radius\n",
    "        right = seed.col+radius\n",
    "        \n",
    "        if top < 0:\n",
    "            top = 0\n",
    "        if bottom > 256:\n",
    "            bottom = 256\n",
    "        if left < 0:\n",
    "            left = 0\n",
    "        if right > 256:\n",
    "            right = 256\n",
    "        seed.signal = numpy.mean(numpy.mean(right_mouse_green_frames[:, top:bottom, left:right], axis=1), axis=1)\n",
    "\n",
    "        right_first_frame[top:bottom, left:right] = 255\n",
    "        all_seeds[cnt,:]=seed.signal\n",
    "        cnt+=1\n",
    "        \n",
    "        the_positions.append((seed.row, seed.col))\n",
    "\n",
    "    \n",
    "    \n",
    "    \n",
    "    #right_mouse_green_frames[0, :, :].tofile(\"right.raw\")\n",
    "    \n",
    "    \n",
    "    # Calculate correlation coefficients\n",
    "    corr_mat=numpy.corrcoef(all_seeds)\n",
    "\n",
    "    fig = plt.figure(figsize=(10,11))\n",
    "    ax = fig.add_subplot(111)\n",
    "    cax = ax.matshow(corr_mat, interpolation='nearest', vmin=0, vmax=1, cmap='viridis')\n",
    "    fig.colorbar(cax, fraction=0.046, pad=0.04)\n",
    "    ax.set_title(title+\"\\n\", y=1.15)\n",
    "    ax.set_xticks([i for i in range(numpy.size(left_seeds)+numpy.size(right_seeds))])\n",
    "    ax.set_yticks([i for i in range(numpy.size(left_seeds)+numpy.size(right_seeds))])\n",
    "    ax.set_xticklabels(the_labels, rotation='vertical')\n",
    "    ax.set_yticklabels(the_labels)\n",
    "    fig2 = plt.figure()\n",
    "    ax2 = fig2.add_subplot(111)\n",
    "    ax2.imshow(left_first_frame, cmap='gray')\n",
    "    \n",
    "    fig3 = plt.figure()\n",
    "    ax3 = fig3.add_subplot(111)\n",
    "    ax3.imshow(right_first_frame, cmap='gray')\n",
    "    fig.savefig(filename + \".svg\")\n",
    "    numpy.save(filename +\".npy\", corr_mat)\n",
    "    \n",
    "    plt.show()"
   ]
  },
  {
   "cell_type": "markdown",
   "metadata": {},
   "source": [
    "## Load single blue and green frames"
   ]
  },
  {
   "cell_type": "code",
   "execution_count": null,
   "metadata": {},
   "outputs": [],
   "source": [
    "l_mouse_blue = numpy.load(left_blue_frame_file)    \n",
    "r_mouse_blue = numpy.load(right_blue_frame_file)   \n",
    "\n",
    "l_mouse_green = numpy.load(left_green_frame_file)  \n",
    "r_mouse_green = numpy.load(right_green_frame_file) "
   ]
  },
  {
   "cell_type": "markdown",
   "metadata": {},
   "source": [
    "## Load the array of frames"
   ]
  },
  {
   "cell_type": "code",
   "execution_count": null,
   "metadata": {},
   "outputs": [],
   "source": [
    "l_mouse_frames = vp.extract_RAW_frames(\n",
    "    filename=left_mouse_processed_file,\n",
    "    width=WIDTH, \n",
    "    height=HEIGHT,\n",
    "    num_channels=1\n",
    ")\n",
    "# mask negative infinities with -1\n",
    "left_mouse_frames[np.where(lmouse_frames == -np.inf)] = -1\n",
    "\n",
    "r_mouse_frames = vp.extract_RAW_frames(\n",
    "    filename=right_mouse_processed_file,\n",
    "    width=WIDTH, \n",
    "    height=HEIGHT,\n",
    "    num_channels=1\n",
    ")\n",
    "# mask negative infinities with -1\n",
    "r_mouse_frames[np.where(r_mouse_frames == -np.inf)] = -1"
   ]
  },
  {
   "cell_type": "markdown",
   "metadata": {},
   "source": [
    "## Bregma Selection"
   ]
  },
  {
   "cell_type": "code",
   "execution_count": null,
   "metadata": {},
   "outputs": [],
   "source": [
    "l_bregma = seed.Bregma(l_mouse_blue)"
   ]
  },
  {
   "cell_type": "code",
   "execution_count": null,
   "metadata": {},
   "outputs": [],
   "source": [
    "r_bregma = seed.Bregma(r_mouse_blue)"
   ]
  },
  {
   "cell_type": "markdown",
   "metadata": {},
   "source": [
    "### Define parameters"
   ]
  },
  {
   "cell_type": "code",
   "execution_count": null,
   "metadata": {},
   "outputs": [],
   "source": [
    "start_interaction_frame = 2872\n",
    "end_interaction_frame = 6930\n",
    "\n",
    "# pixels per mm\n",
    "l_ppmm = 30\n",
    "r_ppmm = 30\n",
    "\n",
    "l_first_frame = np.copy(l_mouse_green)\n",
    "r_first_frame = np.copy(r_mouse_green)"
   ]
  },
  {
   "cell_type": "markdown",
   "metadata": {},
   "source": [
    "### Produce adjusted (scaled) seed pixel objects"
   ]
  },
  {
   "cell_type": "code",
   "execution_count": null,
   "metadata": {},
   "outputs": [],
   "source": [
    "seeds = [(\"M1\", 1.03 + 1, 1.365),(\"FL\", .16, 2.47), (\"HL\", -.7, 1.85), \n",
    "         (\"aBC\", -1.36 + .575, 3.35),(\"pBC\", -1.9, 3.35), (\"AC\", 0 + 1, 0.6), \n",
    "         (\"RS\", -2.8858 + 1, 0.62043),(\"V1\", -4.2678 + .8, 2.5168), (\"mPTA\", -2.4962, 2.2932), \n",
    "         (\"lPTA\", -2.4962 - 0.3, 3.35 - 0.2),(\"Un\", -1.5, 2.6)]\n",
    "\n",
    "l_scaled_seeds = seed.generate_scaled_seeds(\n",
    "    seeds=seeds,\n",
    "    bregma=l_bregma,\n",
    "    ppmm=l_ppmm,\n",
    "    direction ='u'\n",
    ")\n",
    "\n",
    "r_scaled_seeds = seed.generate_scaled_seeds(\n",
    "    seeds=seeds,\n",
    "    bregma=r_bregma,\n",
    "    ppmm=r_ppmm,\n",
    "    direction ='u'\n",
    ")"
   ]
  },
  {
   "cell_type": "markdown",
   "metadata": {},
   "source": [
    "## Generate Correlation Matrix"
   ]
  },
  {
   "cell_type": "code",
   "execution_count": null,
   "metadata": {},
   "outputs": [],
   "source": [
    "generate_matrix_two_mice(\n",
    "    l_mouse_frames[start_interaction_frame:end_interaction_frame],\n",
    "    r_mouse_frames[start_interaction_frame:end_interaction_frame],\n",
    "    l_scaled_seeds,\n",
    "    r_scaled_seeds,\n",
    "    \"title\",\n",
    "    \"correlation_matrix\"\n",
    "    radius=5\n",
    ")"
   ]
  }
 ],
 "metadata": {
  "kernelspec": {
   "display_name": "Python 3",
   "language": "python",
   "name": "python3"
  },
  "language_info": {
   "codemirror_mode": {
    "name": "ipython",
    "version": 3
   },
   "file_extension": ".py",
   "mimetype": "text/x-python",
   "name": "python",
   "nbconvert_exporter": "python",
   "pygments_lexer": "ipython3",
   "version": "3.6.8"
  }
 },
 "nbformat": 4,
 "nbformat_minor": 2
}
