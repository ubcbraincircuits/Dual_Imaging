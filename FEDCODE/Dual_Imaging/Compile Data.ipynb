{
 "cells": [
  {
   "cell_type": "markdown",
   "metadata": {},
   "source": [
    "# Imports"
   ]
  },
  {
   "cell_type": "code",
   "execution_count": 26,
   "metadata": {},
   "outputs": [],
   "source": [
    "%reload_ext autoreload\n",
    "\n",
    "%autoreload 2\n",
    "import video_processing as vp\n",
    "import librain as lb\n",
    "import fnames\n",
    "import numpy\n",
    "from roipoly import RoiPoly \n",
    "import matplotlib.pyplot as plt\n",
    "import seaborn as sns\n",
    "import matplotlib.animation as animation\n",
    "import sys\n",
    "from joblib import Parallel, delayed, cpu_count\n",
    "from fastdtw import fastdtw\n",
    "import time\n",
    "\n",
    "from scipy import signal\n",
    "import scipy.io as sio\n",
    "from scipy.ndimage.filters import gaussian_filter\n",
    "from scipy.spatial.distance import correlation, euclidean #, pdist, canberra\n",
    "from sklearn.cluster import KMeans\n",
    "from sklearn.metrics import pairwise_distances\n",
    "\n",
    "import warnings\n",
    "\n",
    "warnings.filterwarnings('ignore')"
   ]
  },
  {
   "cell_type": "markdown",
   "metadata": {},
   "source": [
    "# File Paths and Constants"
   ]
  },
  {
   "cell_type": "code",
   "execution_count": 33,
   "metadata": {},
   "outputs": [],
   "source": [
    "path = \"B:/Dual/\" # location of \"date\" folders\n",
    "\n",
    "direc = lb.Data(path)\n",
    "\n",
    "dates = ['20190808']\n",
    "\n",
    "# experiment_numbers = [1, 2, 3, 4, 5, 6, 7, 8]\n",
    "# experiment_numbers = [1, 3, 5, 7]\n",
    "# experiment_numbers = [2, 4, 6, 8]\n",
    "experiment_numbers = [1]\n",
    "\n",
    "\n",
    "TRUE_FRAMERATE = 28.815\n"
   ]
  },
  {
   "cell_type": "markdown",
   "metadata": {},
   "source": [
    "# Correlation vs Frequency and Time"
   ]
  },
  {
   "cell_type": "code",
   "execution_count": 35,
   "metadata": {},
   "outputs": [
    {
     "data": {
      "text/plain": [
       "<matplotlib.colorbar.Colorbar at 0xf51e240710>"
      ]
     },
     "execution_count": 35,
     "metadata": {},
     "output_type": "execute_result"
    },
    {
     "data": {
      "image/png": "[encoded data removed]",
      "text/plain": [
       "<Figure size 576x576 with 2 Axes>"
      ]
     },
     "metadata": {},
     "output_type": "display_data"
    }
   ],
   "source": [
    "correlation_heatmap = []\n",
    "correlation_heatmap = numpy.empty([10, 10956, 6])\n",
    "\n",
    "count = 0\n",
    "for date in dates:\n",
    "    for exp_num in experiment_numbers:\n",
    "        \n",
    "        EXP = direc.experiment(date, exp_num)\n",
    "        \n",
    "        corr_file = direc.file(\n",
    "            exp_folder=EXP, \n",
    "            fname=\"freq split ws=1000\"\n",
    "        )\n",
    "        \n",
    "        temp_corr = numpy.load(corr_file)       \n",
    "        correlation_heatmap[:, :, count] = temp_corr[:,0:numpy.shape(correlation_heatmap)[1]]\n",
    "\n",
    "mean_correlation_heatmap = numpy.mean(correlation_heatmap, axis=2)\n",
    "\n",
    "\n",
    "\n",
    "\n",
    "frequency_bands = (\n",
    "    0.01,\n",
    "    0.1,\n",
    "    0.5,\n",
    "    1.0,\n",
    "    2.0,\n",
    "    3.0,\n",
    "    4.0,\n",
    "    6.0,\n",
    "    8.0,\n",
    "    10.0,\n",
    "    12.0,\n",
    ")\n",
    "\n",
    "frequency_labels = []\n",
    "for i, (low, high) in enumerate(zip(frequency_bands, frequency_bands[1:])):\n",
    "    frequency_labels.append(\n",
    "        str(low) + \"-\" + str(high) + \"Hz\"\n",
    "    )\n",
    "\n",
    "\n",
    "plt.figure(figsize=(8, 8))\n",
    "plt.title(\n",
    "    \"Moving correlation vs. different frequency bands ({}-{})\".format(date, exp_num)\n",
    ")\n",
    "y_ticks = numpy.arange(numpy.shape(mean_correlation_heatmap)[0])+0.5\n",
    "y_ticks = numpy.flipud(y_ticks)\n",
    "plt.imshow(\n",
    "    mean_correlation_heatmap, \n",
    "    cmap='viridis', \n",
    "    extent=[0,413,0,10],\n",
    "    aspect='auto', \n",
    "    vmin=-0, \n",
    "    vmax=0.2\n",
    ")\n",
    "plt.yticks(y_ticks, frequency_labels)\n",
    "plt.colorbar()"
   ]
  },
  {
   "cell_type": "markdown",
   "metadata": {},
   "source": [
    "# Trial Shuffling 20190808"
   ]
  },
  {
   "cell_type": "code",
   "execution_count": 28,
   "metadata": {},
   "outputs": [],
   "source": [
    "date = '20190808'\n",
    "experiment_numbers = [1, 2, 3, 4, 5, 6, 7, 8]\n",
    "\n",
    "# filter parameters\n",
    "fs = TRUE_FRAMERATE\n",
    "order = 3\n",
    "frequency_bands = (\n",
    "    0.01,\n",
    "    0.1,\n",
    "    0.5,\n",
    "    1.0,\n",
    "    2.0,\n",
    "    3.0,\n",
    "    4.0,\n",
    "    6.0,\n",
    "    8.0,\n",
    "    10.0,\n",
    "    12.0,\n",
    ")\n",
    "\n",
    "# filter definition\n",
    "def butter_bandpass_filter(\n",
    "    data, cutoff_low, cutoff_high, fs, order=5\n",
    "):\n",
    "    b, a = butter_bandpass(\n",
    "        cutoff_low, cutoff_high, fs, order=order\n",
    "    )\n",
    "    y = signal.lfilter(b, a, data)\n",
    "    return y\n",
    "\n",
    "def butter_bandpass(cutoff_low, cutoff_high, fs, order=5):\n",
    "    nyq = 0.5 * fs\n",
    "    normal_cutoff_low = cutoff_low / nyq\n",
    "    normal_cutoff_high = cutoff_high / nyq\n",
    "    Wn = [normal_cutoff_low, normal_cutoff_high]\n",
    "    b, a = signal.butter(\n",
    "        order, Wn, btype=\"bandpass\", analog=False\n",
    "    )\n",
    "    return b, a\n",
    "\n",
    "# initialize correlation parameters\n",
    "window_size = 1000\n",
    "correlation_heatmap = numpy.empty(\n",
    "    [len(frequency_bands)-1, 11956-window_size, len(experiment_numbers)])\n",
    "\n",
    "\n",
    "# set up flag for shuffling trials while maintaining mouse pairs\n",
    "# note the following experiments use same mouse pairs \n",
    "# date: 20190808 experiments: (1,2), (3,4), (5,6), (7,8)\n",
    "flag =  1\n",
    "\n",
    "for exp_num in experiment_numbers:      \n",
    "    \n",
    "    # shuffle trials\n",
    "    EXP_left = direc.experiment(date, exp_num)\n",
    "    EXP_right = direc.experiment(date, exp_num + flag)\n",
    "    \n",
    "    # load global signals\n",
    "    left_gs_file = direc.file(exp_folder=EXP_left, fname=\"left global\")              \n",
    "    right_gs_file = direc.file(exp_folder=EXP_right, fname=\"right global\")\n",
    "    left_gs = numpy.load(left_gs_file)\n",
    "    right_gs = numpy.load(right_gs_file)\n",
    "    \n",
    "    # make sure signals are same length\n",
    "    left_gs = left_gs[0:11956, 0]\n",
    "    right_gs = right_gs[0:11956, 0]\n",
    "    \n",
    "#     plt.figure()\n",
    "#     plt.plot(left_gs)\n",
    "#     plt.plot(right_gs)\n",
    "#     throwerrorhere\n",
    "    \n",
    "    # filter global signals\n",
    "    frequency_labels = []\n",
    "#     plt.figure()\n",
    "    for i, (low, high) in enumerate(zip(frequency_bands, frequency_bands[1:])):\n",
    "        frequency_labels.append(\n",
    "            str(low) + \"-\" + str(high) + \"Hz\"\n",
    "        )\n",
    "        s1 = butter_bandpass_filter(\n",
    "            left_gs, low, high, fs, order\n",
    "        )\n",
    "        s2 = butter_bandpass_filter(\n",
    "            right_gs, low, high, fs, order\n",
    "        )\n",
    "        \n",
    "\n",
    "\n",
    "#         plt.plot(s1)\n",
    "\n",
    "\n",
    "#         print(low)\n",
    "#         print(high)\n",
    "#         print(1 - correlation(s1, s2))\n",
    "#         del s1, s2\n",
    "        \n",
    "        # correlation inside moving window at current frequency band\n",
    "        for j in range(len(s1) - window_size):\n",
    "            correlation_heatmap[i, j, exp_num-1] = 1 - correlation(\n",
    "                s1[j : j + window_size], s2[j : j + window_size])\n",
    "   \n",
    "    # switch flag\n",
    "    flag = -flag\n",
    "    \n"
   ]
  },
  {
   "cell_type": "code",
   "execution_count": 24,
   "metadata": {},
   "outputs": [
    {
     "data": {
      "text/plain": [
       "<matplotlib.image.AxesImage at 0xf50dadbef0>"
      ]
     },
     "execution_count": 24,
     "metadata": {},
     "output_type": "execute_result"
    },
    {
     "data": {
      "image/png": "[encoded data removed]",
      "text/plain": [
       "<Figure size 576x576 with 1 Axes>"
      ]
     },
     "metadata": {},
     "output_type": "display_data"
    }
   ],
   "source": [
    "mean_correlation_heatmap = numpy.mean(correlation_heatmap, axis=2)\n",
    "y_ticks = numpy.arange(mean_correlation_heatmap.shape[0])+0.5\n",
    "y_ticks = numpy.flipud(y_ticks)\n",
    "plt.figure(figsize=(8, 8))\n",
    "plt.title(\"shuffled correlation vs. different frequency bands\")\n",
    "plt.imshow(\n",
    "    mean_correlation_heatmap, \n",
    "    cmap='viridis', \n",
    "    extent=[0,413,0,10],\n",
    "    aspect='auto', \n",
    "    vmin=-0.2, \n",
    "    vmax=0.2\n",
    ")"
   ]
  },
  {
   "cell_type": "code",
   "execution_count": 6,
   "metadata": {},
   "outputs": [
    {
     "data": {
      "text/plain": [
       "[<matplotlib.lines.Line2D at 0xf50d83c4a8>]"
      ]
     },
     "execution_count": 6,
     "metadata": {},
     "output_type": "execute_result"
    },
    {
     "data": {
      "image/png": "[encoded data removed]",
      "text/plain": [
       "<Figure size 432x288 with 1 Axes>"
      ]
     },
     "metadata": {},
     "output_type": "display_data"
    }
   ],
   "source": [
    "plt.figure()\n",
    "plt.plot(left_gs)\n",
    "filt = butter_bandpass_filter(\n",
    "            left_gs, 0.01, 0.11, fs, order\n",
    "        )\n",
    "plt.plot(filt)"
   ]
  },
  {
   "cell_type": "code",
   "execution_count": 16,
   "metadata": {},
   "outputs": [
    {
     "name": "stdout",
     "output_type": "stream",
     "text": [
      "(10, 10956)\n",
      "(10, 10956)\n"
     ]
    }
   ],
   "source": [
    "# print(fs)\n",
    "# print(correlation_heatmap)\n",
    "print(numpy.shape(correlation_heatmap))\n",
    "# plt.figure()\n",
    "# plt.imshow(numpy.mean(correlation_heatmap, axis=2))\n",
    "print(numpy.shape(test))"
   ]
  },
  {
   "cell_type": "code",
   "execution_count": 181,
   "metadata": {},
   "outputs": [
    {
     "name": "stdout",
     "output_type": "stream",
     "text": [
      "B:\\Dual\\20190808\\Experiment_1\\Derivatives\\left_mouse_gsr_frames.raw\n",
      "B:\\Dual\\20190808\\Experiment_1\\Derivatives\\right_mouse_gsr_frames.raw\n"
     ]
    }
   ],
   "source": [
    "import os\n",
    "fname = 'left gsr'\n",
    "dd = os.path.join(EXP, \"\")  \n",
    "for root, dirs, files in os.walk(dd):\n",
    "    for f in files:\n",
    "        if 'gsr' in f and fname == 'left gsr':\n",
    "            print(str(os.path.join(root, f)))"
   ]
  },
  {
   "cell_type": "markdown",
   "metadata": {},
   "source": [
    "# Normalization of brain data (scrap analysis)"
   ]
  },
  {
   "cell_type": "code",
   "execution_count": 118,
   "metadata": {},
   "outputs": [],
   "source": [
    "WIDTH=256\n",
    "HEIGHT=256\n",
    "SIGMA=2\n",
    "\n",
    "path = \"B:/Dual/\" # location of \"date\" folders\n",
    "\n",
    "direc = lb.Data(path)\n",
    "\n",
    "date = '20190808'\n",
    "\n",
    "EXP = direc.experiment(date, exp_num=7)\n",
    "\n",
    "l_mouse_processed_file = direc.file(\n",
    "    exp_folder=EXP, \n",
    "    fname=\"left green 0.01-12.0Hz\",\n",
    "    subfolder=\"Derivatives\"\n",
    ")\n",
    "\n",
    "l_mouse_frames = vp.extract_RAW_frames(\n",
    "    l_mouse_processed_file,\n",
    "    WIDTH,\n",
    "    HEIGHT,\n",
    "    num_channels=1,\n",
    "    dtype='float32'\n",
    ")\n",
    "l_mouse_frames[numpy.where(l_mouse_frames == -numpy.inf)] = -1\n",
    "\n",
    "for i in range(l_mouse_frames.shape[0]):\n",
    "    l_mouse_frames[i] = gaussian_filter(l_mouse_frames[i], SIGMA)                                      \n",
    "l_mouse_frames = vp.downsample(l_mouse_frames, (64, 64))\n",
    "\n",
    "l_mask_file = direc.file(\n",
    "    exp_folder=EXP, \n",
    "    fname='LM mask'\n",
    ")\n",
    "\n",
    "l_mouse_mask = numpy.load(l_mask_file)"
   ]
  },
  {
   "cell_type": "code",
   "execution_count": 134,
   "metadata": {},
   "outputs": [
    {
     "data": {
      "text/plain": [
       "<matplotlib.image.AxesImage at 0xdfa0fbd68>"
      ]
     },
     "execution_count": 134,
     "metadata": {},
     "output_type": "execute_result"
    },
    {
     "data": {
      "image/png": "[encoded data removed]",
      "text/plain": [
       "<Figure size 432x288 with 1 Axes>"
      ]
     },
     "metadata": {},
     "output_type": "display_data"
    }
   ],
   "source": [
    "test = numpy.multiply(l_mouse_frames, l_mouse_mask[None, :, :])\n",
    "maxes = numpy.max(numpy.max(abs(test), axis=2),axis=1)\n",
    "\n",
    "test = numpy.divide(test, maxes[:, None, None]) + 1\n",
    "\n",
    "\n",
    "plt.figure()\n",
    "plt.imshow(test[1000,:,:], vmin=0, vmax = 2)\n",
    "# print(numpy.shape(l_mouse_frames))"
   ]
  },
  {
   "cell_type": "code",
   "execution_count": 135,
   "metadata": {},
   "outputs": [
    {
     "name": "stdout",
     "output_type": "stream",
     "text": [
      "Saved as normalized_left_green.raw\n"
     ]
    }
   ],
   "source": [
    "res = lb.Output(direc.experiment(date, exp_num=7))\n",
    "\n",
    "norm_fname = res.saveas(\n",
    "    path=EXP,\n",
    "    suffix=\"normalized_left_green\",\n",
    "    f_out=test,\n",
    "    ftype=\"raw\",\n",
    "    dtype='float32',\n",
    "    save=True\n",
    ")"
   ]
  },
  {
   "cell_type": "code",
   "execution_count": 178,
   "metadata": {},
   "outputs": [
    {
     "name": "stdout",
     "output_type": "stream",
     "text": [
      "B:\\Dual\\20190808\\Experiment_7\n"
     ]
    }
   ],
   "source": [
    "print(EXP)"
   ]
  },
  {
   "cell_type": "code",
   "execution_count": null,
   "metadata": {},
   "outputs": [],
   "source": []
  }
 ],
 "metadata": {
  "kernelspec": {
   "display_name": "Python 3",
   "language": "python",
   "name": "python3"
  },
  "language_info": {
   "codemirror_mode": {
    "name": "ipython",
    "version": 3
   },
   "file_extension": ".py",
   "mimetype": "text/x-python",
   "name": "python",
   "nbconvert_exporter": "python",
   "pygments_lexer": "ipython3",
   "version": "3.6.5"
  }
 },
 "nbformat": 4,
 "nbformat_minor": 2
}
