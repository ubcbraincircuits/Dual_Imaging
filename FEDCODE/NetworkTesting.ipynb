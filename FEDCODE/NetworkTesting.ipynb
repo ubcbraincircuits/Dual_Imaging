{
 "cells": [
  {
   "cell_type": "code",
   "execution_count": 1,
   "metadata": {
    "collapsed": true
   },
   "outputs": [],
   "source": [
    "import networkx as nx\n",
    "import numpy as np\n",
    "import matplotlib.pyplot as plt\n",
    "import os"
   ]
  },
  {
   "cell_type": "code",
   "execution_count": 1,
   "metadata": {
    "collapsed": false
   },
   "outputs": [
    {
     "ename": "NameError",
     "evalue": "name 'os' is not defined",
     "output_type": "error",
     "traceback": [
      "\u001b[1;31m---------------------------------------------------------------------------\u001b[0m",
      "\u001b[1;31mNameError\u001b[0m                                 Traceback (most recent call last)",
      "\u001b[1;32m<ipython-input-1-72acbd24934e>\u001b[0m in \u001b[0;36m<module>\u001b[1;34m()\u001b[0m\n\u001b[0;32m      4\u001b[0m \u001b[1;32mfrom\u001b[0m \u001b[0mos\u001b[0m\u001b[1;33m.\u001b[0m\u001b[0mpath\u001b[0m \u001b[1;32mimport\u001b[0m \u001b[0mjoin\u001b[0m\u001b[1;33m,\u001b[0m \u001b[0mgetsize\u001b[0m\u001b[1;33m\u001b[0m\u001b[0m\n\u001b[0;32m      5\u001b[0m \u001b[0mall_files\u001b[0m \u001b[1;33m=\u001b[0m \u001b[1;32mNone\u001b[0m\u001b[1;33m\u001b[0m\u001b[0m\n\u001b[1;32m----> 6\u001b[1;33m \u001b[1;32mfor\u001b[0m \u001b[0mroot\u001b[0m\u001b[1;33m,\u001b[0m \u001b[0mdirs\u001b[0m\u001b[1;33m,\u001b[0m \u001b[0mfiles\u001b[0m \u001b[1;32min\u001b[0m \u001b[0mos\u001b[0m\u001b[1;33m.\u001b[0m\u001b[0mwalk\u001b[0m\u001b[1;33m(\u001b[0m\u001b[0mdirectory\u001b[0m\u001b[1;33m+\u001b[0m\u001b[0mexperiment\u001b[0m\u001b[1;33m)\u001b[0m\u001b[1;33m:\u001b[0m\u001b[1;33m\u001b[0m\u001b[0m\n\u001b[0m\u001b[0;32m      7\u001b[0m     \u001b[0mall_files\u001b[0m \u001b[1;33m=\u001b[0m \u001b[0mfiles\u001b[0m\u001b[1;33m\u001b[0m\u001b[0m\n\u001b[0;32m      8\u001b[0m \u001b[1;33m\u001b[0m\u001b[0m\n",
      "\u001b[1;31mNameError\u001b[0m: name 'os' is not defined"
     ]
    }
   ],
   "source": [
    "directory = \"/media/gu4n1n3/Data/2_mice/20170802/\"\n",
    "experiment = \"Experiment_4/\"\n",
    "\n",
    "from os.path import join, getsize\n",
    "all_files = None\n",
    "for root, dirs, files in os.walk(directory+experiment):\n",
    "    all_files = files\n",
    "    \n",
    "    \n",
    "for i, file in enumerate(all_files):\n",
    "    if \".npy\" in file and \"the\" not in file:\n",
    "        corr_mat_file = file\n",
    "        \n",
    "print(file)\n",
    "\n",
    "the_seeds_file = directory+experiment+\"the_seed_labels.npy\"\n",
    "the_positions_file = directory+experiment+\"the_positions.npy\"\n",
    "the_seeds = np.load(the_seeds_file)\n",
    "the_positions = np.load(the_positions_file)\n",
    "print(the_seeds)\n",
    "print(the_positions)\n",
    "print(len(the_seeds))\n",
    "print(len(the_positions))"
   ]
  },
  {
   "cell_type": "code",
   "execution_count": 23,
   "metadata": {
    "collapsed": false
   },
   "outputs": [
    {
     "name": "stdout",
     "output_type": "stream",
     "text": [
      "187\n",
      "44\n"
     ]
    }
   ],
   "source": [
    "corr_mat = np.load(directory+experiment+corr_mat_file)\n",
    "\n",
    "corr_mat[np.where(corr_mat >= 0.99)] = 0\n",
    "corr_mat[np.where(corr_mat <= 0.5)] = 0\n",
    "graph = nx.from_numpy_matrix(corr_mat)\n",
    "\n",
    "min_corr = np.min(corr_mat)\n",
    "max_corr = np.max(corr_mat)\n",
    "#graph.edges(data=True)\n",
    "print(len(graph.edges()))\n",
    "print(len(graph.nodes()))\n"
   ]
  },
  {
   "cell_type": "code",
   "execution_count": 21,
   "metadata": {
    "collapsed": true
   },
   "outputs": [],
   "source": [
    "plt.matshow(corr_mat)\n",
    "plt.show()"
   ]
  },
  {
   "cell_type": "code",
   "execution_count": 24,
   "metadata": {
    "collapsed": false
   },
   "outputs": [
    {
     "name": "stdout",
     "output_type": "stream",
     "text": [
      "{0: array([228, 154]), 1: array([228, 113]), 2: array([166, 166]), 3: array([166, 101]), 4: array([121, 193]), 5: array([121,  74]), 6: array([101, 178]), 7: array([101,  89]), 8: array([103, 214]), 9: array([103,  53]), 10: array([ 76, 218]), 11: array([76, 50]), 12: array([142, 146]), 13: array([142, 122]), 14: array([ 72, 148]), 15: array([ 72, 119]), 16: array([ 34, 194]), 17: array([34, 73]), 18: array([ 58, 189]), 19: array([58, 78]), 20: array([ 82, 196]), 21: array([82, 71]), 22: array([291, 154]), 23: array([291, 113]), 24: array([353, 166]), 25: array([353, 101]), 26: array([398, 193]), 27: array([398,  74]), 28: array([418, 178]), 29: array([418,  89]), 30: array([416, 214]), 31: array([416,  53]), 32: array([444, 218]), 33: array([444,  50]), 34: array([378, 146]), 35: array([378, 122]), 36: array([447, 148]), 37: array([447, 119]), 38: array([485, 194]), 39: array([485,  73]), 40: array([461, 189]), 41: array([461,  78]), 42: array([438, 196]), 43: array([438,  71])}\n"
     ]
    },
    {
     "name": "stderr",
     "output_type": "stream",
     "text": [
      "/home/gu4n1n3/Applications/anaconda3/lib/python3.5/site-packages/ipykernel/__main__.py:2: VisibleDeprecationWarning: using a non-integer number instead of an integer will result in an error in the future\n",
      "  from ipykernel import kernelapp as app\n"
     ]
    }
   ],
   "source": [
    "pos={}\n",
    "difference = the_positions[0]-the_positions[len(the_seeds)/2]\n",
    "for i,seed,position in zip(range(len(the_seeds)),the_seeds, the_positions):\n",
    "    if i >= len(the_seeds)/2:\n",
    "        position = np.array([position[1]+256, position[0]])\n",
    "    else:\n",
    "        # recall positikon must be inverted cause idk why.\n",
    "        # and then difference must also be inverted so that's why there'\n",
    "        # difference[0] also the circumference of a circle is 2*Pi*r\n",
    "        position = np.array([position[1], position[0]-difference[0]])\n",
    "    pos[i]=position\n",
    "    \n",
    "print(pos)"
   ]
  },
  {
   "cell_type": "code",
   "execution_count": 25,
   "metadata": {
    "collapsed": false,
    "scrolled": false
   },
   "outputs": [],
   "source": [
    "for n in nx.nodes_iter(graph):\n",
    "    if n>= len(the_seeds)/2:\n",
    "        nx.draw_networkx_nodes(graph,pos,nodelist=[n],node_color='r',node_size=150,alpha=0.8)\n",
    "        \n",
    "    else:\n",
    "        nx.draw_networkx_nodes(graph,pos,nodelist=[n],node_color='b',node_size=150,alpha=0.8)\n",
    "\n",
    "for e in nx.edges_iter(graph):\n",
    "    width = ((5-1)/(max_corr-min_corr))*corr_mat[e[0],e[1]]\n",
    "    if ((e[0] <= len(the_seeds)/2-1 and e[1] <= len(the_seeds)/2-1) or \n",
    "        (e[0] > len(the_seeds)/2-1 and e[1] > len(the_seeds)/2-1)):\n",
    "        nx.draw_networkx_edges(graph,pos,edgelist=[e],width=width,alpha=0.5,edge_color='y')\n",
    "    else:\n",
    "        #print(e)\n",
    "        #print(corr_mat[e[0], e[1]])\n",
    "        width = ((10-1)/(max_corr-min_corr))*corr_mat[e[0],e[1]]\n",
    "        nx.draw_networkx_edges(graph,pos,edgelist=[e],width=width,alpha=0.5,edge_color='g')\n",
    "\n",
    "#plt.figure(figsize=(10, 10))\n",
    "title = corr_mat_file.split('.')[0]\n",
    "plt.xlim([0,512])\n",
    "plt.ylim([0,256])\n",
    "plt.title(title)    \n",
    "plt.savefig(directory+\"Graphs/\"+title+\".svg\")\n",
    "plt.show()\n"
   ]
  },
  {
   "cell_type": "code",
   "execution_count": null,
   "metadata": {
    "collapsed": false
   },
   "outputs": [],
   "source": []
  },
  {
   "cell_type": "code",
   "execution_count": null,
   "metadata": {
    "collapsed": true
   },
   "outputs": [],
   "source": []
  },
  {
   "cell_type": "code",
   "execution_count": null,
   "metadata": {
    "collapsed": false
   },
   "outputs": [],
   "source": []
  },
  {
   "cell_type": "code",
   "execution_count": null,
   "metadata": {
    "collapsed": true
   },
   "outputs": [],
   "source": []
  }
 ],
 "metadata": {
  "anaconda-cloud": {},
  "kernelspec": {
   "display_name": "Python 3",
   "language": "python",
   "name": "python3"
  },
  "language_info": {
   "codemirror_mode": {
    "name": "ipython",
    "version": 3
   },
   "file_extension": ".py",
   "mimetype": "text/x-python",
   "name": "python",
   "nbconvert_exporter": "python",
   "pygments_lexer": "ipython3",
   "version": "3.6.8"
  }
 },
 "nbformat": 4,
 "nbformat_minor": 2
}
